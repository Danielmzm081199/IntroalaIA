{
  "cells": [
    {
      "cell_type": "markdown",
      "metadata": {
        "id": "PNONwfFoS4m6"
      },
      "source": [
        "# **Proyecto Parte 1**"
      ]
    },
    {
      "cell_type": "markdown",
      "metadata": {
        "id": "HEQAZTVEUHTL"
      },
      "source": [
        "# Integrantes:"
      ]
    },
    {
      "cell_type": "code",
      "execution_count": null,
      "metadata": {
        "id": "9Of7W0E1TJsx"
      },
      "outputs": [],
      "source": [
        "# Integrantes del equipo:\n",
        "          # Daniel Munoz Mejia  cc: 1020494553 --->  Ingenieria de Sistemas Virtual\n",
        "          # Cristian Florez Calderon cc: 1035233651 ---> Bioingenieria\n",
        "          # William Daniel cuaical cc: 1007292685 ---> Ingenieria Industrial"
      ]
    },
    {
      "cell_type": "markdown",
      "metadata": {
        "id": "oIw2EMVKfCMW"
      },
      "source": [
        "ENTREGA 1 (Formulario de entrega pendiente de publicar)\n",
        "Esta primera entrega sólo consta de dos archivos que han de estar en tu repositorio github:\n",
        "\n",
        "README.md con los nombres, cédulas y progama en el que está inscrito cada participante\n",
        "\n",
        "01 - exploración.ipynb donde se muestra cómo cargas el archivo train.csv de la competencia y muestras alguna exploración de datos (por ejemplo, cuantos estudiantes hay de cada clase, por localidades, etc.). Esta exploración no tiene que ser exhaustiva, tan sólo que muestres que eres capaz de cargar los datos e inspeccionarlos."
      ]
    },
    {
      "cell_type": "markdown",
      "metadata": {
        "id": "kx8wBSKdTh8H"
      },
      "source": [
        "# Cargar Librerias:"
      ]
    },
    {
      "cell_type": "code",
      "execution_count": null,
      "metadata": {
        "id": "czmNSVhvDKIe"
      },
      "outputs": [],
      "source": [
        "import numpy as np\n",
        "import pandas as pd\n",
        "import os"
      ]
    },
    {
      "cell_type": "markdown",
      "metadata": {
        "id": "d0-2WBNjTvBZ"
      },
      "source": [
        "### Dos opciones para cargar los archivos:\n",
        "##Cargar DataFrame desde el Drive:"
      ]
    },
    {
      "cell_type": "code",
      "execution_count": null,
      "metadata": {
        "id": "PBSxefyrQMVu",
        "colab": {
          "base_uri": "https://localhost:8080/"
        },
        "outputId": "4a4cc852-d3b3-4fb1-8d8f-ea0691ae124f"
      },
      "outputs": [
        {
          "output_type": "stream",
          "name": "stdout",
          "text": [
            "Drive already mounted at /content/drive; to attempt to forcibly remount, call drive.mount(\"/content/drive\", force_remount=True).\n"
          ]
        }
      ],
      "source": [
        "from google.colab import drive\n",
        "drive.mount('/content/drive')\n",
        "df = pd.read_csv('/content/drive/MyDrive/semester 24-1/Colab Notebooks/train.csv')"
      ]
    },
    {
      "cell_type": "markdown",
      "source": [
        "## Cargar DataFrame desde Kaggle"
      ],
      "metadata": {
        "id": "8OZxwQhgUGAn"
      }
    },
    {
      "cell_type": "code",
      "source": [
        "os.environ[\"KAGGLE_CONFIG_DIR\"] = \".\"\n",
        "!kaggle competitions download -c udea-ai4eng-20241\n",
        "!unzip udea-ai4eng-20241.zip\n",
        "df = pd.read_csv(\"train.csv\") #Para cargar los datos si se cargaron desde Kaggle"
      ],
      "metadata": {
        "id": "C-MJcsWcNkbV",
        "colab": {
          "base_uri": "https://localhost:8080/"
        },
        "outputId": "1d8ea661-a7cb-4061-a80d-f05fbfd08ff9"
      },
      "execution_count": null,
      "outputs": [
        {
          "output_type": "stream",
          "name": "stdout",
          "text": [
            "Warning: Your Kaggle API key is readable by other users on this system! To fix this, you can run 'chmod 600 ./kaggle.json'\n",
            "udea-ai4eng-20241.zip: Skipping, found more recently modified local copy (use --force to force download)\n",
            "Archive:  udea-ai4eng-20241.zip\n",
            "  inflating: submission_example.csv  \n",
            "  inflating: test.csv                \n",
            "  inflating: train.csv               \n"
          ]
        }
      ]
    },
    {
      "cell_type": "markdown",
      "source": [
        "#*Exploracion de datos*"
      ],
      "metadata": {
        "id": "4xVfzHkEeVzu"
      }
    },
    {
      "cell_type": "code",
      "execution_count": null,
      "metadata": {
        "colab": {
          "base_uri": "https://localhost:8080/"
        },
        "id": "qUGrWSE0HKcN",
        "outputId": "e01cd3ee-c6a3-4277-975e-e8cc772f93b7"
      },
      "outputs": [
        {
          "output_type": "stream",
          "name": "stdout",
          "text": [
            "Información del indice del dataframe: RangeIndex(start=0, stop=692500, step=1, name='Index') \n",
            "\n",
            "Index(['ID', 'PERIODO', 'ESTU_PRGM_ACADEMICO', 'ESTU_PRGM_DEPARTAMENTO',\n",
            "       'ESTU_VALORMATRICULAUNIVERSIDAD', 'ESTU_HORASSEMANATRABAJA',\n",
            "       'FAMI_ESTRATOVIVIENDA', 'FAMI_TIENEINTERNET', 'FAMI_EDUCACIONPADRE',\n",
            "       'FAMI_TIENELAVADORA', 'FAMI_TIENEAUTOMOVIL', 'ESTU_PRIVADO_LIBERTAD',\n",
            "       'ESTU_PAGOMATRICULAPROPIO', 'FAMI_TIENECOMPUTADOR',\n",
            "       'FAMI_TIENEINTERNET.1', 'FAMI_EDUCACIONMADRE', 'RENDIMIENTO_GLOBAL'],\n",
            "      dtype='object')\n"
          ]
        }
      ],
      "source": [
        "# Se agrega index para tener referencia numerica de los datos\n",
        "df.index.name = \"Index\"\n",
        "print(f\"Información del indice del dataframe: {df.index} \\n\")\n",
        "#se muestra cuales son las columnas del dataframe\n",
        "print(df.columns)"
      ]
    },
    {
      "cell_type": "code",
      "execution_count": null,
      "metadata": {
        "colab": {
          "base_uri": "https://localhost:8080/"
        },
        "id": "lcGP250PQioi",
        "outputId": "718e95cb-2b20-4215-8415-3e1df75740e9"
      },
      "outputs": [
        {
          "output_type": "stream",
          "name": "stdout",
          "text": [
            "           ID  PERIODO         ESTU_PRGM_ACADEMICO ESTU_PRGM_DEPARTAMENTO  \\\n",
            "Index                                                                       \n",
            "0      904256    20212                  ENFERMERIA                 BOGOTÁ   \n",
            "1      645256    20212                     DERECHO              ATLANTICO   \n",
            "2      308367    20203       MERCADEO Y PUBLICIDAD                 BOGOTÁ   \n",
            "3      470353    20195  ADMINISTRACION DE EMPRESAS              SANTANDER   \n",
            "4      989032    20212                  PSICOLOGIA              ANTIOQUIA   \n",
            "\n",
            "                 ESTU_VALORMATRICULAUNIVERSIDAD ESTU_HORASSEMANATRABAJA  \\\n",
            "Index                                                                     \n",
            "0      Entre 5.5 millones y menos de 7 millones       Menos de 10 horas   \n",
            "1      Entre 2.5 millones y menos de 4 millones                       0   \n",
            "2      Entre 2.5 millones y menos de 4 millones         Más de 30 horas   \n",
            "3      Entre 4 millones y menos de 5.5 millones                       0   \n",
            "4      Entre 2.5 millones y menos de 4 millones     Entre 21 y 30 horas   \n",
            "\n",
            "      FAMI_ESTRATOVIVIENDA FAMI_TIENEINTERNET  \\\n",
            "Index                                           \n",
            "0                Estrato 3                 Si   \n",
            "1                Estrato 3                 No   \n",
            "2                Estrato 3                 Si   \n",
            "3                Estrato 4                 Si   \n",
            "4                Estrato 3                 Si   \n",
            "\n",
            "                      FAMI_EDUCACIONPADRE FAMI_TIENELAVADORA  \\\n",
            "Index                                                          \n",
            "0        Técnica o tecnológica incompleta                 Si   \n",
            "1          Técnica o tecnológica completa                 Si   \n",
            "2      Secundaria (Bachillerato) completa                 Si   \n",
            "3                                 No sabe                 Si   \n",
            "4                       Primaria completa                 Si   \n",
            "\n",
            "      FAMI_TIENEAUTOMOVIL ESTU_PRIVADO_LIBERTAD ESTU_PAGOMATRICULAPROPIO  \\\n",
            "Index                                                                      \n",
            "0                      Si                     N                       No   \n",
            "1                      No                     N                       No   \n",
            "2                      No                     N                       No   \n",
            "3                      No                     N                       No   \n",
            "4                      Si                     N                       No   \n",
            "\n",
            "      FAMI_TIENECOMPUTADOR FAMI_TIENEINTERNET.1  \\\n",
            "Index                                             \n",
            "0                       Si                   Si   \n",
            "1                       Si                   No   \n",
            "2                       No                   Si   \n",
            "3                       Si                   Si   \n",
            "4                       Si                   Si   \n",
            "\n",
            "                      FAMI_EDUCACIONMADRE RENDIMIENTO_GLOBAL  \n",
            "Index                                                         \n",
            "0                               Postgrado         medio-alto  \n",
            "1        Técnica o tecnológica incompleta               bajo  \n",
            "2      Secundaria (Bachillerato) completa               bajo  \n",
            "3      Secundaria (Bachillerato) completa               alto  \n",
            "4                       Primaria completa         medio-bajo  \n"
          ]
        }
      ],
      "source": [
        "print(df.head()) #Muestra los primeros datos de cada columna"
      ]
    },
    {
      "cell_type": "code",
      "source": [
        "# Muestra un conteo de los valores únicos en la columna 'ESTU_PRGM_ACADEMICO' y cuantos hay por cada uno de ellos\n",
        "print(df['ESTU_PRGM_ACADEMICO'].value_counts())"
      ],
      "metadata": {
        "colab": {
          "base_uri": "https://localhost:8080/"
        },
        "id": "O4tNtzkuP4MW",
        "outputId": "d411177f-406e-4740-a39b-b43e91a819ba"
      },
      "execution_count": null,
      "outputs": [
        {
          "output_type": "stream",
          "name": "stdout",
          "text": [
            "DERECHO                                                   53244\n",
            "ADMINISTRACION DE EMPRESAS                                51902\n",
            "CONTADURIA PUBLICA                                        39664\n",
            "PSICOLOGIA                                                31932\n",
            "INGENIERIA INDUSTRIAL                                     28481\n",
            "                                                          ...  \n",
            "LICENCIATURA EN ESPAÑOL Y FILOLOGÍA                           1\n",
            "ADMINISTRACION EN NEGOCIOS INTERNACIONALES                    1\n",
            "ADMINISTRACION DE COMERCIO EXTERIOR                           1\n",
            "LICENCIATURA EN EDUCACI¿N F¿SICA RECREACI¿N Y DEPORTES        1\n",
            "PROFESIONAL EN INVESTIGACIÓN CRIMINAL                         1\n",
            "Name: ESTU_PRGM_ACADEMICO, Length: 948, dtype: int64\n"
          ]
        }
      ]
    },
    {
      "cell_type": "code",
      "source": [
        "#crea un nuevo dataframe con solo la informacion de los que cumplan con el estrato filtrado\n",
        "df_estrato = df.loc[df['FAMI_ESTRATOVIVIENDA'] == \"Estrato 3\"]\n",
        "print(df_estrato)"
      ],
      "metadata": {
        "colab": {
          "base_uri": "https://localhost:8080/"
        },
        "id": "dzGVyK32kgcU",
        "outputId": "1ea3f5b2-865b-4134-d860-6c3e35139f72"
      },
      "execution_count": null,
      "outputs": [
        {
          "output_type": "stream",
          "name": "stdout",
          "text": [
            "            ID  PERIODO                                ESTU_PRGM_ACADEMICO  \\\n",
            "Index                                                                        \n",
            "0       904256    20212                                         ENFERMERIA   \n",
            "1       645256    20212                                            DERECHO   \n",
            "2       308367    20203                              MERCADEO Y PUBLICIDAD   \n",
            "4       989032    20212                                         PSICOLOGIA   \n",
            "12      858669    20183                                HOTELERIA Y TURISMO   \n",
            "...        ...      ...                                                ...   \n",
            "692485  945114    20195                         ADMINISTRACIÓN DE EMPRESAS   \n",
            "692489  481885    20195                              INGENIERIA INDUSTRIAL   \n",
            "692494  649690    20212  LICENCIATURA EN EDUCACION BASICA CON ENFASIS E...   \n",
            "692496  754213    20212                                         PSICOLOGIA   \n",
            "692497  504185    20183                ADMINISTRACIÓN EN SALUD OCUPACIONAL   \n",
            "\n",
            "       ESTU_PRGM_DEPARTAMENTO            ESTU_VALORMATRICULAUNIVERSIDAD  \\\n",
            "Index                                                                     \n",
            "0                      BOGOTÁ  Entre 5.5 millones y menos de 7 millones   \n",
            "1                   ATLANTICO  Entre 2.5 millones y menos de 4 millones   \n",
            "2                      BOGOTÁ  Entre 2.5 millones y menos de 4 millones   \n",
            "4                   ANTIOQUIA  Entre 2.5 millones y menos de 4 millones   \n",
            "12                     BOGOTÁ  Entre 2.5 millones y menos de 4 millones   \n",
            "...                       ...                                       ...   \n",
            "692485                 BOGOTÁ    Entre 1 millón y menos de 2.5 millones   \n",
            "692489                  VALLE  Entre 4 millones y menos de 5.5 millones   \n",
            "692494        NORTE SANTANDER                          Menos de 500 mil   \n",
            "692496        NORTE SANTANDER  Entre 2.5 millones y menos de 4 millones   \n",
            "692497                 BOGOTÁ    Entre 1 millón y menos de 2.5 millones   \n",
            "\n",
            "       ESTU_HORASSEMANATRABAJA FAMI_ESTRATOVIVIENDA FAMI_TIENEINTERNET  \\\n",
            "Index                                                                    \n",
            "0            Menos de 10 horas            Estrato 3                 Si   \n",
            "1                            0            Estrato 3                 No   \n",
            "2              Más de 30 horas            Estrato 3                 Si   \n",
            "4          Entre 21 y 30 horas            Estrato 3                 Si   \n",
            "12             Más de 30 horas            Estrato 3                 Si   \n",
            "...                        ...                  ...                ...   \n",
            "692485         Más de 30 horas            Estrato 3                 Si   \n",
            "692489         Más de 30 horas            Estrato 3                 Si   \n",
            "692494     Entre 21 y 30 horas            Estrato 3                 Si   \n",
            "692496         Más de 30 horas            Estrato 3                 Si   \n",
            "692497       Menos de 10 horas            Estrato 3                 Si   \n",
            "\n",
            "                         FAMI_EDUCACIONPADRE FAMI_TIENELAVADORA  \\\n",
            "Index                                                             \n",
            "0           Técnica o tecnológica incompleta                 Si   \n",
            "1             Técnica o tecnológica completa                 Si   \n",
            "2         Secundaria (Bachillerato) completa                 Si   \n",
            "4                          Primaria completa                 Si   \n",
            "12        Secundaria (Bachillerato) completa                 Si   \n",
            "...                                      ...                ...   \n",
            "692485                   Primaria incompleta                 Si   \n",
            "692489    Secundaria (Bachillerato) completa                 Si   \n",
            "692494  Secundaria (Bachillerato) incompleta                 Si   \n",
            "692496                   Primaria incompleta                 Si   \n",
            "692497    Secundaria (Bachillerato) completa                 Si   \n",
            "\n",
            "       FAMI_TIENEAUTOMOVIL ESTU_PRIVADO_LIBERTAD ESTU_PAGOMATRICULAPROPIO  \\\n",
            "Index                                                                       \n",
            "0                       Si                     N                       No   \n",
            "1                       No                     N                       No   \n",
            "2                       No                     N                       No   \n",
            "4                       Si                     N                       No   \n",
            "12                      Si                     N                       No   \n",
            "...                    ...                   ...                      ...   \n",
            "692485                  Si                     N                       Si   \n",
            "692489                  No                     N                       No   \n",
            "692494                  Si                     N                       Si   \n",
            "692496                  No                     N                       No   \n",
            "692497                  No                     N                       Si   \n",
            "\n",
            "       FAMI_TIENECOMPUTADOR FAMI_TIENEINTERNET.1  \\\n",
            "Index                                              \n",
            "0                        Si                   Si   \n",
            "1                        Si                   No   \n",
            "2                        No                   Si   \n",
            "4                        Si                   Si   \n",
            "12                       Si                   Si   \n",
            "...                     ...                  ...   \n",
            "692485                   Si                   Si   \n",
            "692489                   No                   Si   \n",
            "692494                   Si                   Si   \n",
            "692496                   Si                   Si   \n",
            "692497                   Si                   Si   \n",
            "\n",
            "                         FAMI_EDUCACIONMADRE RENDIMIENTO_GLOBAL  \n",
            "Index                                                            \n",
            "0                                  Postgrado         medio-alto  \n",
            "1           Técnica o tecnológica incompleta               bajo  \n",
            "2         Secundaria (Bachillerato) completa               bajo  \n",
            "4                          Primaria completa         medio-bajo  \n",
            "12                         Primaria completa         medio-bajo  \n",
            "...                                      ...                ...  \n",
            "692485                   Primaria incompleta         medio-bajo  \n",
            "692489        Técnica o tecnológica completa         medio-bajo  \n",
            "692494    Secundaria (Bachillerato) completa               bajo  \n",
            "692496  Secundaria (Bachillerato) incompleta               bajo  \n",
            "692497  Secundaria (Bachillerato) incompleta         medio-bajo  \n",
            "\n",
            "[210685 rows x 17 columns]\n"
          ]
        }
      ]
    },
    {
      "cell_type": "code",
      "source": [
        "df2 = df[[\"ID\", \"PERIODO\", \"RENDIMIENTO_GLOBAL\"]] #crea un nuevo dataframe con solo las columnas especificadas\n",
        "print(df2)"
      ],
      "metadata": {
        "colab": {
          "base_uri": "https://localhost:8080/"
        },
        "id": "GqrFH0vZQhLa",
        "outputId": "1b1d7162-2b92-4b60-de8a-9b021da283c5"
      },
      "execution_count": null,
      "outputs": [
        {
          "output_type": "stream",
          "name": "stdout",
          "text": [
            "            ID  PERIODO RENDIMIENTO_GLOBAL\n",
            "Index                                     \n",
            "0       904256    20212         medio-alto\n",
            "1       645256    20212               bajo\n",
            "2       308367    20203               bajo\n",
            "3       470353    20195               alto\n",
            "4       989032    20212         medio-bajo\n",
            "...        ...      ...                ...\n",
            "692495   25096    20195         medio-alto\n",
            "692496  754213    20212               bajo\n",
            "692497  504185    20183         medio-bajo\n",
            "692498  986620    20195               bajo\n",
            "692499  933374    20195               alto\n",
            "\n",
            "[692500 rows x 3 columns]\n"
          ]
        }
      ]
    },
    {
      "cell_type": "code",
      "source": [
        "df3 = df[df[\"ESTU_PRGM_DEPARTAMENTO\"]==\"SANTANDER\"] #crea un nuevo dataframe con solo los indices que cumplan con estudiar un programa en el departamento SANTANDER\n",
        "print(df3)"
      ],
      "metadata": {
        "colab": {
          "base_uri": "https://localhost:8080/"
        },
        "id": "EapU9x67OmPD",
        "outputId": "6d5c797e-a575-4747-85a7-a8b111fccfd3"
      },
      "execution_count": null,
      "outputs": [
        {
          "output_type": "stream",
          "name": "stdout",
          "text": [
            "            ID  PERIODO         ESTU_PRGM_ACADEMICO ESTU_PRGM_DEPARTAMENTO  \\\n",
            "Index                                                                        \n",
            "3       470353    20195  ADMINISTRACION DE EMPRESAS              SANTANDER   \n",
            "45       10412    20203                 ODONTOLOGIA              SANTANDER   \n",
            "106     780362    20203       INGENIERIA INDUSTRIAL              SANTANDER   \n",
            "154     927315    20212          CONTADURIA PUBLICA              SANTANDER   \n",
            "167     783913    20203                 ODONTOLOGIA              SANTANDER   \n",
            "...        ...      ...                         ...                    ...   \n",
            "692441  746267    20212    NEGOCIOS INTERNACIONALES              SANTANDER   \n",
            "692446  159035    20183  ADMINISTRACION DE EMPRESAS              SANTANDER   \n",
            "692475  598951    20212         ARTES AUDIOVISUALES              SANTANDER   \n",
            "692478   92695    20212       INGENIERIA  AMBIENTAL              SANTANDER   \n",
            "692480  928089    20183         GESTION EMPRESARIAL              SANTANDER   \n",
            "\n",
            "                  ESTU_VALORMATRICULAUNIVERSIDAD ESTU_HORASSEMANATRABAJA  \\\n",
            "Index                                                                      \n",
            "3       Entre 4 millones y menos de 5.5 millones                       0   \n",
            "45      Entre 5.5 millones y menos de 7 millones         Más de 30 horas   \n",
            "106                             Menos de 500 mil       Menos de 10 horas   \n",
            "154     Entre 4 millones y menos de 5.5 millones                       0   \n",
            "167     Entre 5.5 millones y menos de 7 millones                       0   \n",
            "...                                          ...                     ...   \n",
            "692441  Entre 4 millones y menos de 5.5 millones     Entre 11 y 20 horas   \n",
            "692446    Entre 1 millón y menos de 2.5 millones       Menos de 10 horas   \n",
            "692475  Entre 5.5 millones y menos de 7 millones                       0   \n",
            "692478  Entre 4 millones y menos de 5.5 millones       Menos de 10 horas   \n",
            "692480    Entre 1 millón y menos de 2.5 millones     Entre 21 y 30 horas   \n",
            "\n",
            "       FAMI_ESTRATOVIVIENDA FAMI_TIENEINTERNET  \\\n",
            "Index                                            \n",
            "3                 Estrato 4                 Si   \n",
            "45                Estrato 3                 Si   \n",
            "106               Estrato 3                 Si   \n",
            "154               Estrato 6                 Si   \n",
            "167               Estrato 3                 Si   \n",
            "...                     ...                ...   \n",
            "692441            Estrato 2                 Si   \n",
            "692446            Estrato 3                 Si   \n",
            "692475            Estrato 6                 Si   \n",
            "692478            Estrato 3                 Si   \n",
            "692480            Estrato 3                 Si   \n",
            "\n",
            "                       FAMI_EDUCACIONPADRE FAMI_TIENELAVADORA  \\\n",
            "Index                                                           \n",
            "3                                  No sabe                 Si   \n",
            "45          Educación profesional completa                 Si   \n",
            "106     Secundaria (Bachillerato) completa                 Si   \n",
            "154                              Postgrado                 Si   \n",
            "167         Educación profesional completa                 Si   \n",
            "...                                    ...                ...   \n",
            "692441    Educación profesional incompleta                 Si   \n",
            "692446                   Primaria completa                 Si   \n",
            "692475      Educación profesional completa                 Si   \n",
            "692478      Educación profesional completa                 Si   \n",
            "692480  Secundaria (Bachillerato) completa                 Si   \n",
            "\n",
            "       FAMI_TIENEAUTOMOVIL ESTU_PRIVADO_LIBERTAD ESTU_PAGOMATRICULAPROPIO  \\\n",
            "Index                                                                       \n",
            "3                       No                     N                       No   \n",
            "45                      Si                     N                       No   \n",
            "106                     No                     N                       No   \n",
            "154                     Si                     N                       No   \n",
            "167                     Si                     N                       No   \n",
            "...                    ...                   ...                      ...   \n",
            "692441                  No                     N                       Si   \n",
            "692446                  No                     N                       Si   \n",
            "692475                  Si                     N                       No   \n",
            "692478                  Si                     N                       No   \n",
            "692480                  No                     N                       Si   \n",
            "\n",
            "       FAMI_TIENECOMPUTADOR FAMI_TIENEINTERNET.1  \\\n",
            "Index                                              \n",
            "3                        Si                   Si   \n",
            "45                       Si                   Si   \n",
            "106                      Si                   Si   \n",
            "154                      Si                   Si   \n",
            "167                      Si                   Si   \n",
            "...                     ...                  ...   \n",
            "692441                   No                   Si   \n",
            "692446                   Si                   Si   \n",
            "692475                   Si                   Si   \n",
            "692478                   Si                   Si   \n",
            "692480                   Si                   Si   \n",
            "\n",
            "                       FAMI_EDUCACIONMADRE RENDIMIENTO_GLOBAL  \n",
            "Index                                                          \n",
            "3       Secundaria (Bachillerato) completa               alto  \n",
            "45          Educación profesional completa         medio-alto  \n",
            "106     Secundaria (Bachillerato) completa         medio-alto  \n",
            "154         Educación profesional completa               alto  \n",
            "167                              Postgrado               alto  \n",
            "...                                    ...                ...  \n",
            "692441  Secundaria (Bachillerato) completa         medio-bajo  \n",
            "692446                   Primaria completa               bajo  \n",
            "692475    Educación profesional incompleta         medio-bajo  \n",
            "692478      Técnica o tecnológica completa         medio-bajo  \n",
            "692480      Educación profesional completa               alto  \n",
            "\n",
            "[28828 rows x 17 columns]\n"
          ]
        }
      ]
    },
    {
      "cell_type": "code",
      "source": [
        "df4 = df[df[\"ID\"] < 1000] #crea un nuevo dataframe con solo los indices que cumplan con que su ID sea menor a 1000\n",
        "print(df4)"
      ],
      "metadata": {
        "colab": {
          "base_uri": "https://localhost:8080/"
        },
        "id": "AmDG8TZtk96z",
        "outputId": "cacad2b1-f387-4f7f-cd6e-fa9edb21c3fb"
      },
      "execution_count": null,
      "outputs": [
        {
          "output_type": "stream",
          "name": "stdout",
          "text": [
            "         ID  PERIODO                   ESTU_PRGM_ACADEMICO  \\\n",
            "Index                                                        \n",
            "1033    644    20183                               DERECHO   \n",
            "1664    256    20183                              ECONOMIA   \n",
            "2973    517    20183                        DISEÑO GRAFICO   \n",
            "4529    199    20183                 NUTRICION Y DIETETICA   \n",
            "4907    774    20183  LICENCIATURA EN EDUCACION PREESCOLAR   \n",
            "...     ...      ...                                   ...   \n",
            "689932   41    20183            ADMINISTRACION DE EMPRESAS   \n",
            "689945  968    20195  LICENCIATURA EN ESPAÑOL Y LITERATURA   \n",
            "690160  184    20183            ADMINISTRACION DE EMPRESAS   \n",
            "691182  362    20183                          FISIOTERAPIA   \n",
            "692098  534    20183                              MEDICINA   \n",
            "\n",
            "       ESTU_PRGM_DEPARTAMENTO            ESTU_VALORMATRICULAUNIVERSIDAD  \\\n",
            "Index                                                                     \n",
            "1033                   BOGOTÁ                         Más de 7 millones   \n",
            "1664                   BOGOTÁ  Entre 2.5 millones y menos de 4 millones   \n",
            "2973                   BOYACA  Entre 5.5 millones y menos de 7 millones   \n",
            "4529                   BOGOTÁ         Entre 500 mil y menos de 1 millón   \n",
            "4907                   BOYACA    Entre 1 millón y menos de 2.5 millones   \n",
            "...                       ...                                       ...   \n",
            "689932                CORDOBA         Entre 500 mil y menos de 1 millón   \n",
            "689945              RISARALDA                          Menos de 500 mil   \n",
            "690160                  VALLE    Entre 1 millón y menos de 2.5 millones   \n",
            "691182              ANTIOQUIA  Entre 4 millones y menos de 5.5 millones   \n",
            "692098                  VALLE                         Más de 7 millones   \n",
            "\n",
            "       ESTU_HORASSEMANATRABAJA FAMI_ESTRATOVIVIENDA FAMI_TIENEINTERNET  \\\n",
            "Index                                                                    \n",
            "1033                         0            Estrato 4                 Si   \n",
            "1664       Entre 21 y 30 horas            Estrato 4                 Si   \n",
            "2973           Más de 30 horas            Estrato 4                 Si   \n",
            "4529                       NaN                  NaN                NaN   \n",
            "4907         Menos de 10 horas            Estrato 2                 Si   \n",
            "...                        ...                  ...                ...   \n",
            "689932         Más de 30 horas            Estrato 1                 No   \n",
            "689945     Entre 21 y 30 horas            Estrato 2                 Si   \n",
            "690160         Más de 30 horas            Estrato 3                 Si   \n",
            "691182                       0            Estrato 2                 Si   \n",
            "692098                       0            Estrato 4                 Si   \n",
            "\n",
            "                         FAMI_EDUCACIONPADRE FAMI_TIENELAVADORA  \\\n",
            "Index                                                             \n",
            "1033          Técnica o tecnológica completa                 Si   \n",
            "1664          Técnica o tecnológica completa                 Si   \n",
            "2973        Educación profesional incompleta                 Si   \n",
            "4529                                     NaN                NaN   \n",
            "4907          Educación profesional completa                 Si   \n",
            "...                                      ...                ...   \n",
            "689932                               Ninguno                 Si   \n",
            "689945                               Ninguno                 Si   \n",
            "690160                     Primaria completa                 Si   \n",
            "691182    Secundaria (Bachillerato) completa                 Si   \n",
            "692098  Secundaria (Bachillerato) incompleta                 Si   \n",
            "\n",
            "       FAMI_TIENEAUTOMOVIL ESTU_PRIVADO_LIBERTAD ESTU_PAGOMATRICULAPROPIO  \\\n",
            "Index                                                                       \n",
            "1033                    Si                     N                       No   \n",
            "1664                    No                     N                       Si   \n",
            "2973                    Si                     N                       No   \n",
            "4529                   NaN                     N                       No   \n",
            "4907                    No                     N                       No   \n",
            "...                    ...                   ...                      ...   \n",
            "689932                  Si                     N                       No   \n",
            "689945                  No                     N                       Si   \n",
            "690160                  No                     N                       Si   \n",
            "691182                  No                     N                       No   \n",
            "692098                  Si                     N                       No   \n",
            "\n",
            "       FAMI_TIENECOMPUTADOR FAMI_TIENEINTERNET.1  \\\n",
            "Index                                              \n",
            "1033                     Si                   Si   \n",
            "1664                     Si                   Si   \n",
            "2973                     Si                   Si   \n",
            "4529                    NaN                  NaN   \n",
            "4907                     Si                   Si   \n",
            "...                     ...                  ...   \n",
            "689932                   Si                   No   \n",
            "689945                   Si                   Si   \n",
            "690160                   Si                   Si   \n",
            "691182                   Si                   Si   \n",
            "692098                   Si                   Si   \n",
            "\n",
            "                         FAMI_EDUCACIONMADRE RENDIMIENTO_GLOBAL  \n",
            "Index                                                            \n",
            "1033                               Postgrado               alto  \n",
            "1664          Educación profesional completa               alto  \n",
            "2973          Educación profesional completa               bajo  \n",
            "4529                                     NaN               alto  \n",
            "4907                               Postgrado         medio-bajo  \n",
            "...                                      ...                ...  \n",
            "689932                               Ninguno               bajo  \n",
            "689945                               Ninguno               bajo  \n",
            "690160    Secundaria (Bachillerato) completa               alto  \n",
            "691182  Secundaria (Bachillerato) incompleta               bajo  \n",
            "692098  Secundaria (Bachillerato) incompleta               alto  \n",
            "\n",
            "[694 rows x 17 columns]\n"
          ]
        }
      ]
    },
    {
      "cell_type": "code",
      "source": [
        "print(df.loc[2,\"RENDIMIENTO_GLOBAL\"])#toma un valor especifico de la columna asignada, en este caso el valor 2 de la columna RENDIMIENTO_GLOBAL"
      ],
      "metadata": {
        "colab": {
          "base_uri": "https://localhost:8080/"
        },
        "id": "4RkHvy6zyJJ4",
        "outputId": "9d9ab9e8-75d9-48f1-94cc-04dee2e0ffe4"
      },
      "execution_count": null,
      "outputs": [
        {
          "output_type": "stream",
          "name": "stdout",
          "text": [
            "bajo\n"
          ]
        }
      ]
    }
  ],
  "metadata": {
    "colab": {
      "provenance": []
    },
    "kernelspec": {
      "display_name": "Python 3",
      "name": "python3"
    },
    "language_info": {
      "name": "python"
    }
  },
  "nbformat": 4,
  "nbformat_minor": 0
}