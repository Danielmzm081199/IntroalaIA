{
  "cells": [
    {
      "cell_type": "code",
      "execution_count": null,
      "metadata": {
        "id": "QZwjig-j89I0"
      },
      "outputs": [],
      "source": [
        "# Integrantes del equipo:\n",
        "          # Daniel Munoz Mejia  cc: 1020494553 --->  Ingenieria de Sistemas Virtual\n",
        "          # Cristian Florez Calderon cc: 1035233651 ---> Bioingenieria\n",
        "          # William Daniel cuaical cc: 1007292685 ---> Ingenieria Industrial"
      ]
    },
    {
      "cell_type": "markdown",
      "metadata": {
        "id": "CMy12IglmkXy"
      },
      "source": [
        "##Importación de librerias"
      ]
    },
    {
      "cell_type": "code",
      "execution_count": null,
      "metadata": {
        "id": "HN5w_BpT52T1"
      },
      "outputs": [],
      "source": [
        "import numpy as np\n",
        "import pandas as pd\n",
        "import os\n",
        "import re\n",
        "import unicodedata\n",
        "from sklearn.neighbors import KNeighborsClassifier\n",
        "from sklearn.metrics import accuracy_score"
      ]
    },
    {
      "cell_type": "markdown",
      "metadata": {
        "id": "8WJV63vJm03W"
      },
      "source": [
        "##Descarga de archivos desde Kaggle"
      ]
    },
    {
      "cell_type": "code",
      "execution_count": null,
      "metadata": {
        "colab": {
          "base_uri": "https://localhost:8080/",
          "height": 452
        },
        "id": "SSjxv_6x545W",
        "outputId": "0683a5fe-47f9-4a77-8504-0520859cf30e"
      },
      "outputs": [
        {
          "name": "stdout",
          "output_type": "stream",
          "text": [
            "Warning: Your Kaggle API key is readable by other users on this system! To fix this, you can run 'chmod 600 ./kaggle.json'\n",
            "Downloading udea-ai4eng-20241.zip to /content\n",
            " 24% 5.00M/21.2M [00:00<00:00, 46.2MB/s]\n",
            "100% 21.2M/21.2M [00:00<00:00, 105MB/s] \n",
            "Archive:  udea-ai4eng-20241.zip\n",
            "  inflating: submission_example.csv  \n",
            "  inflating: test.csv                \n",
            "  inflating: train.csv               \n"
          ]
        },
        {
          "data": {
            "application/vnd.google.colaboratory.intrinsic+json": {
              "type": "dataframe",
              "variable_name": "df"
            },
            "text/html": [
              "\n",
              "  <div id=\"df-edddd33d-4239-4317-a5bc-0663a9c0d73a\" class=\"colab-df-container\">\n",
              "    <div>\n",
              "<style scoped>\n",
              "    .dataframe tbody tr th:only-of-type {\n",
              "        vertical-align: middle;\n",
              "    }\n",
              "\n",
              "    .dataframe tbody tr th {\n",
              "        vertical-align: top;\n",
              "    }\n",
              "\n",
              "    .dataframe thead th {\n",
              "        text-align: right;\n",
              "    }\n",
              "</style>\n",
              "<table border=\"1\" class=\"dataframe\">\n",
              "  <thead>\n",
              "    <tr style=\"text-align: right;\">\n",
              "      <th></th>\n",
              "      <th>ID</th>\n",
              "      <th>PERIODO</th>\n",
              "      <th>ESTU_PRGM_ACADEMICO</th>\n",
              "      <th>ESTU_PRGM_DEPARTAMENTO</th>\n",
              "      <th>ESTU_VALORMATRICULAUNIVERSIDAD</th>\n",
              "      <th>ESTU_HORASSEMANATRABAJA</th>\n",
              "      <th>FAMI_ESTRATOVIVIENDA</th>\n",
              "      <th>FAMI_TIENEINTERNET</th>\n",
              "      <th>FAMI_EDUCACIONPADRE</th>\n",
              "      <th>FAMI_TIENELAVADORA</th>\n",
              "      <th>FAMI_TIENEAUTOMOVIL</th>\n",
              "      <th>ESTU_PRIVADO_LIBERTAD</th>\n",
              "      <th>ESTU_PAGOMATRICULAPROPIO</th>\n",
              "      <th>FAMI_TIENECOMPUTADOR</th>\n",
              "      <th>FAMI_TIENEINTERNET.1</th>\n",
              "      <th>FAMI_EDUCACIONMADRE</th>\n",
              "      <th>RENDIMIENTO_GLOBAL</th>\n",
              "    </tr>\n",
              "  </thead>\n",
              "  <tbody>\n",
              "    <tr>\n",
              "      <th>0</th>\n",
              "      <td>904256</td>\n",
              "      <td>20212</td>\n",
              "      <td>ENFERMERIA</td>\n",
              "      <td>BOGOTÁ</td>\n",
              "      <td>Entre 5.5 millones y menos de 7 millones</td>\n",
              "      <td>Menos de 10 horas</td>\n",
              "      <td>Estrato 3</td>\n",
              "      <td>Si</td>\n",
              "      <td>Técnica o tecnológica incompleta</td>\n",
              "      <td>Si</td>\n",
              "      <td>Si</td>\n",
              "      <td>N</td>\n",
              "      <td>No</td>\n",
              "      <td>Si</td>\n",
              "      <td>Si</td>\n",
              "      <td>Postgrado</td>\n",
              "      <td>medio-alto</td>\n",
              "    </tr>\n",
              "    <tr>\n",
              "      <th>1</th>\n",
              "      <td>645256</td>\n",
              "      <td>20212</td>\n",
              "      <td>DERECHO</td>\n",
              "      <td>ATLANTICO</td>\n",
              "      <td>Entre 2.5 millones y menos de 4 millones</td>\n",
              "      <td>0</td>\n",
              "      <td>Estrato 3</td>\n",
              "      <td>No</td>\n",
              "      <td>Técnica o tecnológica completa</td>\n",
              "      <td>Si</td>\n",
              "      <td>No</td>\n",
              "      <td>N</td>\n",
              "      <td>No</td>\n",
              "      <td>Si</td>\n",
              "      <td>No</td>\n",
              "      <td>Técnica o tecnológica incompleta</td>\n",
              "      <td>bajo</td>\n",
              "    </tr>\n",
              "    <tr>\n",
              "      <th>2</th>\n",
              "      <td>308367</td>\n",
              "      <td>20203</td>\n",
              "      <td>MERCADEO Y PUBLICIDAD</td>\n",
              "      <td>BOGOTÁ</td>\n",
              "      <td>Entre 2.5 millones y menos de 4 millones</td>\n",
              "      <td>Más de 30 horas</td>\n",
              "      <td>Estrato 3</td>\n",
              "      <td>Si</td>\n",
              "      <td>Secundaria (Bachillerato) completa</td>\n",
              "      <td>Si</td>\n",
              "      <td>No</td>\n",
              "      <td>N</td>\n",
              "      <td>No</td>\n",
              "      <td>No</td>\n",
              "      <td>Si</td>\n",
              "      <td>Secundaria (Bachillerato) completa</td>\n",
              "      <td>bajo</td>\n",
              "    </tr>\n",
              "    <tr>\n",
              "      <th>3</th>\n",
              "      <td>470353</td>\n",
              "      <td>20195</td>\n",
              "      <td>ADMINISTRACION DE EMPRESAS</td>\n",
              "      <td>SANTANDER</td>\n",
              "      <td>Entre 4 millones y menos de 5.5 millones</td>\n",
              "      <td>0</td>\n",
              "      <td>Estrato 4</td>\n",
              "      <td>Si</td>\n",
              "      <td>No sabe</td>\n",
              "      <td>Si</td>\n",
              "      <td>No</td>\n",
              "      <td>N</td>\n",
              "      <td>No</td>\n",
              "      <td>Si</td>\n",
              "      <td>Si</td>\n",
              "      <td>Secundaria (Bachillerato) completa</td>\n",
              "      <td>alto</td>\n",
              "    </tr>\n",
              "    <tr>\n",
              "      <th>4</th>\n",
              "      <td>989032</td>\n",
              "      <td>20212</td>\n",
              "      <td>PSICOLOGIA</td>\n",
              "      <td>ANTIOQUIA</td>\n",
              "      <td>Entre 2.5 millones y menos de 4 millones</td>\n",
              "      <td>Entre 21 y 30 horas</td>\n",
              "      <td>Estrato 3</td>\n",
              "      <td>Si</td>\n",
              "      <td>Primaria completa</td>\n",
              "      <td>Si</td>\n",
              "      <td>Si</td>\n",
              "      <td>N</td>\n",
              "      <td>No</td>\n",
              "      <td>Si</td>\n",
              "      <td>Si</td>\n",
              "      <td>Primaria completa</td>\n",
              "      <td>medio-bajo</td>\n",
              "    </tr>\n",
              "  </tbody>\n",
              "</table>\n",
              "</div>\n",
              "    <div class=\"colab-df-buttons\">\n",
              "\n",
              "  <div class=\"colab-df-container\">\n",
              "    <button class=\"colab-df-convert\" onclick=\"convertToInteractive('df-edddd33d-4239-4317-a5bc-0663a9c0d73a')\"\n",
              "            title=\"Convert this dataframe to an interactive table.\"\n",
              "            style=\"display:none;\">\n",
              "\n",
              "  <svg xmlns=\"http://www.w3.org/2000/svg\" height=\"24px\" viewBox=\"0 -960 960 960\">\n",
              "    <path d=\"M120-120v-720h720v720H120Zm60-500h600v-160H180v160Zm220 220h160v-160H400v160Zm0 220h160v-160H400v160ZM180-400h160v-160H180v160Zm440 0h160v-160H620v160ZM180-180h160v-160H180v160Zm440 0h160v-160H620v160Z\"/>\n",
              "  </svg>\n",
              "    </button>\n",
              "\n",
              "  <style>\n",
              "    .colab-df-container {\n",
              "      display:flex;\n",
              "      gap: 12px;\n",
              "    }\n",
              "\n",
              "    .colab-df-convert {\n",
              "      background-color: #E8F0FE;\n",
              "      border: none;\n",
              "      border-radius: 50%;\n",
              "      cursor: pointer;\n",
              "      display: none;\n",
              "      fill: #1967D2;\n",
              "      height: 32px;\n",
              "      padding: 0 0 0 0;\n",
              "      width: 32px;\n",
              "    }\n",
              "\n",
              "    .colab-df-convert:hover {\n",
              "      background-color: #E2EBFA;\n",
              "      box-shadow: 0px 1px 2px rgba(60, 64, 67, 0.3), 0px 1px 3px 1px rgba(60, 64, 67, 0.15);\n",
              "      fill: #174EA6;\n",
              "    }\n",
              "\n",
              "    .colab-df-buttons div {\n",
              "      margin-bottom: 4px;\n",
              "    }\n",
              "\n",
              "    [theme=dark] .colab-df-convert {\n",
              "      background-color: #3B4455;\n",
              "      fill: #D2E3FC;\n",
              "    }\n",
              "\n",
              "    [theme=dark] .colab-df-convert:hover {\n",
              "      background-color: #434B5C;\n",
              "      box-shadow: 0px 1px 3px 1px rgba(0, 0, 0, 0.15);\n",
              "      filter: drop-shadow(0px 1px 2px rgba(0, 0, 0, 0.3));\n",
              "      fill: #FFFFFF;\n",
              "    }\n",
              "  </style>\n",
              "\n",
              "    <script>\n",
              "      const buttonEl =\n",
              "        document.querySelector('#df-edddd33d-4239-4317-a5bc-0663a9c0d73a button.colab-df-convert');\n",
              "      buttonEl.style.display =\n",
              "        google.colab.kernel.accessAllowed ? 'block' : 'none';\n",
              "\n",
              "      async function convertToInteractive(key) {\n",
              "        const element = document.querySelector('#df-edddd33d-4239-4317-a5bc-0663a9c0d73a');\n",
              "        const dataTable =\n",
              "          await google.colab.kernel.invokeFunction('convertToInteractive',\n",
              "                                                    [key], {});\n",
              "        if (!dataTable) return;\n",
              "\n",
              "        const docLinkHtml = 'Like what you see? Visit the ' +\n",
              "          '<a target=\"_blank\" href=https://colab.research.google.com/notebooks/data_table.ipynb>data table notebook</a>'\n",
              "          + ' to learn more about interactive tables.';\n",
              "        element.innerHTML = '';\n",
              "        dataTable['output_type'] = 'display_data';\n",
              "        await google.colab.output.renderOutput(dataTable, element);\n",
              "        const docLink = document.createElement('div');\n",
              "        docLink.innerHTML = docLinkHtml;\n",
              "        element.appendChild(docLink);\n",
              "      }\n",
              "    </script>\n",
              "  </div>\n",
              "\n",
              "\n",
              "<div id=\"df-e7d4184c-926c-4fda-94c6-62c86183c647\">\n",
              "  <button class=\"colab-df-quickchart\" onclick=\"quickchart('df-e7d4184c-926c-4fda-94c6-62c86183c647')\"\n",
              "            title=\"Suggest charts\"\n",
              "            style=\"display:none;\">\n",
              "\n",
              "<svg xmlns=\"http://www.w3.org/2000/svg\" height=\"24px\"viewBox=\"0 0 24 24\"\n",
              "     width=\"24px\">\n",
              "    <g>\n",
              "        <path d=\"M19 3H5c-1.1 0-2 .9-2 2v14c0 1.1.9 2 2 2h14c1.1 0 2-.9 2-2V5c0-1.1-.9-2-2-2zM9 17H7v-7h2v7zm4 0h-2V7h2v10zm4 0h-2v-4h2v4z\"/>\n",
              "    </g>\n",
              "</svg>\n",
              "  </button>\n",
              "\n",
              "<style>\n",
              "  .colab-df-quickchart {\n",
              "      --bg-color: #E8F0FE;\n",
              "      --fill-color: #1967D2;\n",
              "      --hover-bg-color: #E2EBFA;\n",
              "      --hover-fill-color: #174EA6;\n",
              "      --disabled-fill-color: #AAA;\n",
              "      --disabled-bg-color: #DDD;\n",
              "  }\n",
              "\n",
              "  [theme=dark] .colab-df-quickchart {\n",
              "      --bg-color: #3B4455;\n",
              "      --fill-color: #D2E3FC;\n",
              "      --hover-bg-color: #434B5C;\n",
              "      --hover-fill-color: #FFFFFF;\n",
              "      --disabled-bg-color: #3B4455;\n",
              "      --disabled-fill-color: #666;\n",
              "  }\n",
              "\n",
              "  .colab-df-quickchart {\n",
              "    background-color: var(--bg-color);\n",
              "    border: none;\n",
              "    border-radius: 50%;\n",
              "    cursor: pointer;\n",
              "    display: none;\n",
              "    fill: var(--fill-color);\n",
              "    height: 32px;\n",
              "    padding: 0;\n",
              "    width: 32px;\n",
              "  }\n",
              "\n",
              "  .colab-df-quickchart:hover {\n",
              "    background-color: var(--hover-bg-color);\n",
              "    box-shadow: 0 1px 2px rgba(60, 64, 67, 0.3), 0 1px 3px 1px rgba(60, 64, 67, 0.15);\n",
              "    fill: var(--button-hover-fill-color);\n",
              "  }\n",
              "\n",
              "  .colab-df-quickchart-complete:disabled,\n",
              "  .colab-df-quickchart-complete:disabled:hover {\n",
              "    background-color: var(--disabled-bg-color);\n",
              "    fill: var(--disabled-fill-color);\n",
              "    box-shadow: none;\n",
              "  }\n",
              "\n",
              "  .colab-df-spinner {\n",
              "    border: 2px solid var(--fill-color);\n",
              "    border-color: transparent;\n",
              "    border-bottom-color: var(--fill-color);\n",
              "    animation:\n",
              "      spin 1s steps(1) infinite;\n",
              "  }\n",
              "\n",
              "  @keyframes spin {\n",
              "    0% {\n",
              "      border-color: transparent;\n",
              "      border-bottom-color: var(--fill-color);\n",
              "      border-left-color: var(--fill-color);\n",
              "    }\n",
              "    20% {\n",
              "      border-color: transparent;\n",
              "      border-left-color: var(--fill-color);\n",
              "      border-top-color: var(--fill-color);\n",
              "    }\n",
              "    30% {\n",
              "      border-color: transparent;\n",
              "      border-left-color: var(--fill-color);\n",
              "      border-top-color: var(--fill-color);\n",
              "      border-right-color: var(--fill-color);\n",
              "    }\n",
              "    40% {\n",
              "      border-color: transparent;\n",
              "      border-right-color: var(--fill-color);\n",
              "      border-top-color: var(--fill-color);\n",
              "    }\n",
              "    60% {\n",
              "      border-color: transparent;\n",
              "      border-right-color: var(--fill-color);\n",
              "    }\n",
              "    80% {\n",
              "      border-color: transparent;\n",
              "      border-right-color: var(--fill-color);\n",
              "      border-bottom-color: var(--fill-color);\n",
              "    }\n",
              "    90% {\n",
              "      border-color: transparent;\n",
              "      border-bottom-color: var(--fill-color);\n",
              "    }\n",
              "  }\n",
              "</style>\n",
              "\n",
              "  <script>\n",
              "    async function quickchart(key) {\n",
              "      const quickchartButtonEl =\n",
              "        document.querySelector('#' + key + ' button');\n",
              "      quickchartButtonEl.disabled = true;  // To prevent multiple clicks.\n",
              "      quickchartButtonEl.classList.add('colab-df-spinner');\n",
              "      try {\n",
              "        const charts = await google.colab.kernel.invokeFunction(\n",
              "            'suggestCharts', [key], {});\n",
              "      } catch (error) {\n",
              "        console.error('Error during call to suggestCharts:', error);\n",
              "      }\n",
              "      quickchartButtonEl.classList.remove('colab-df-spinner');\n",
              "      quickchartButtonEl.classList.add('colab-df-quickchart-complete');\n",
              "    }\n",
              "    (() => {\n",
              "      let quickchartButtonEl =\n",
              "        document.querySelector('#df-e7d4184c-926c-4fda-94c6-62c86183c647 button');\n",
              "      quickchartButtonEl.style.display =\n",
              "        google.colab.kernel.accessAllowed ? 'block' : 'none';\n",
              "    })();\n",
              "  </script>\n",
              "</div>\n",
              "    </div>\n",
              "  </div>\n"
            ],
            "text/plain": [
              "       ID  PERIODO         ESTU_PRGM_ACADEMICO ESTU_PRGM_DEPARTAMENTO  \\\n",
              "0  904256    20212                  ENFERMERIA                 BOGOTÁ   \n",
              "1  645256    20212                     DERECHO              ATLANTICO   \n",
              "2  308367    20203       MERCADEO Y PUBLICIDAD                 BOGOTÁ   \n",
              "3  470353    20195  ADMINISTRACION DE EMPRESAS              SANTANDER   \n",
              "4  989032    20212                  PSICOLOGIA              ANTIOQUIA   \n",
              "\n",
              "             ESTU_VALORMATRICULAUNIVERSIDAD ESTU_HORASSEMANATRABAJA  \\\n",
              "0  Entre 5.5 millones y menos de 7 millones       Menos de 10 horas   \n",
              "1  Entre 2.5 millones y menos de 4 millones                       0   \n",
              "2  Entre 2.5 millones y menos de 4 millones         Más de 30 horas   \n",
              "3  Entre 4 millones y menos de 5.5 millones                       0   \n",
              "4  Entre 2.5 millones y menos de 4 millones     Entre 21 y 30 horas   \n",
              "\n",
              "  FAMI_ESTRATOVIVIENDA FAMI_TIENEINTERNET                 FAMI_EDUCACIONPADRE  \\\n",
              "0            Estrato 3                 Si    Técnica o tecnológica incompleta   \n",
              "1            Estrato 3                 No      Técnica o tecnológica completa   \n",
              "2            Estrato 3                 Si  Secundaria (Bachillerato) completa   \n",
              "3            Estrato 4                 Si                             No sabe   \n",
              "4            Estrato 3                 Si                   Primaria completa   \n",
              "\n",
              "  FAMI_TIENELAVADORA FAMI_TIENEAUTOMOVIL ESTU_PRIVADO_LIBERTAD  \\\n",
              "0                 Si                  Si                     N   \n",
              "1                 Si                  No                     N   \n",
              "2                 Si                  No                     N   \n",
              "3                 Si                  No                     N   \n",
              "4                 Si                  Si                     N   \n",
              "\n",
              "  ESTU_PAGOMATRICULAPROPIO FAMI_TIENECOMPUTADOR FAMI_TIENEINTERNET.1  \\\n",
              "0                       No                   Si                   Si   \n",
              "1                       No                   Si                   No   \n",
              "2                       No                   No                   Si   \n",
              "3                       No                   Si                   Si   \n",
              "4                       No                   Si                   Si   \n",
              "\n",
              "                  FAMI_EDUCACIONMADRE RENDIMIENTO_GLOBAL  \n",
              "0                           Postgrado         medio-alto  \n",
              "1    Técnica o tecnológica incompleta               bajo  \n",
              "2  Secundaria (Bachillerato) completa               bajo  \n",
              "3  Secundaria (Bachillerato) completa               alto  \n",
              "4                   Primaria completa         medio-bajo  "
            ]
          },
          "execution_count": 2,
          "metadata": {},
          "output_type": "execute_result"
        }
      ],
      "source": [
        "os.environ[\"KAGGLE_CONFIG_DIR\"] = \".\"\n",
        "!kaggle competitions download -c udea-ai4eng-20241\n",
        "!unzip udea-ai4eng-20241.zip\n",
        "df = pd.read_csv(\"train.csv\")\n",
        "df.head()"
      ]
    },
    {
      "cell_type": "markdown",
      "metadata": {
        "id": "2_n053tlnC1k"
      },
      "source": [
        "##Creación de la funcion para limpiar el dataframe"
      ]
    },
    {
      "cell_type": "code",
      "execution_count": null,
      "metadata": {
        "id": "Z0MlNomu58OT"
      },
      "outputs": [],
      "source": [
        "def one_hot_encode_column(df, column_name): #Función para crear One Hot\n",
        "  df = df.fillna(method='ffill') #Este método rellena los valores faltantes en la columna, utilizando el último valor válido hacia adelante para rellenar los valores faltantes.\n",
        "  unique_values = df[column_name].unique() # Se obtenien valores únicos en la columna\n",
        "  for value in unique_values: # Se crean columnas one-hot para cada valor único\n",
        "      df[column_name + '_' + str(value)] = (df[column_name] == value).astype(int)\n",
        "  del df[column_name]\n",
        "  return df\n",
        "\n",
        "def obtener_valor_medio(rango): #Función para convertir valores string a int, luego sacar el valor medio de la columna\n",
        "  if isinstance(rango, str):  #Verifica si el argumento dado es una cadena de texto(string)\n",
        "      numeros = [int(num) for num in rango.split() if num.isdigit()] #Divide la cadena rango en palabras y crea una lista de números enteros (int) a partir de cada palabra que sea un número filtrando con if num.isdigit() filtra solo las palabras que son números.\n",
        "      return sum(numeros) / len(numeros) #Devuelve el promedio de los números\n",
        "  else:\n",
        "      return float('nan')  #Devuelve un valor nan en caso de que no sea una cadena de texto\n",
        "\n",
        "def obtener_valor_medio2(rango): #Función para convertir valores string a int, luego sacar el valor medio de la columna considerando los casos especiales\n",
        "  if isinstance(rango, str): #Verifica si el argumento dado es una cadena de texto(string)\n",
        "      # Reemplazar datos específicas por los valores correspondientes para los casos especiales\n",
        "      rango = rango.replace(\"No pagó matrícula\", \"0\")\n",
        "      rango = rango.replace(\"Menos de 500 mil\", \"0.5\")\n",
        "      rango = rango.replace(\"Entre 500 mil y menos de 1 millón\", \"0.75\")\n",
        "      # Utilizar expresiones regulares para encontrar números decimales en la cadena\n",
        "      numeros = re.findall(r\"\\d+\\.\\d+|\\d+\", rango) #Utiliza expresiones regulares \\d+\\.\\d+|\\d+ para buscar patrones de números con o sin decimales\n",
        "      # Convertir los números a flotantes y calcular la media\n",
        "      numeros = [float(num) for num in numeros] #Convierte los números encontrados a números flotantes (float).\n",
        "      if numeros:\n",
        "          return sum(numeros) / len(numeros) #Si en la lista hay numeros, devuelve el promedio de los números en la lista\n",
        "      else:\n",
        "          return float('nan') #Devuelve un valor nan en caso de que no sea un número\n",
        "  else:\n",
        "      return float('nan') #Devuelve un valor nan en caso de que no sea una cadena de texto\n",
        "\n",
        "def normalize_text(text): #Funcion para eliminar tildes y caracteres especiales\n",
        "    text = ''.join(c for c in unicodedata.normalize('NFD', text) if unicodedata.category(c) != 'Mn')\n",
        "    text = text.lower().strip()  # Convertir a minúsculas y eliminar espacios en blanco\n",
        "    text = text.replace('-', ' ').replace('  ', ' ').replace(\".\",\"\")  # Reemplazar guiones por espacios y eliminar espacios dobles\n",
        "    return text\n",
        "\n",
        "def Limpieza(df): #Funcion que encapsula las otras funciones para hacer una limpieza o preprocesado completo al Dataframe\n",
        "    df.drop(columns=['FAMI_TIENEINTERNET.1', 'FAMI_TIENELAVADORA', 'FAMI_TIENEAUTOMOVIL', 'ESTU_PAGOMATRICULAPROPIO'], inplace=True) #Se eliminan columnas que se consideran no son de utilidad\n",
        "\n",
        "    #Se aplican las funciones a las columnas\n",
        "    df['ESTU_HORASSEMANATRABAJA'] = df['ESTU_HORASSEMANATRABAJA'].apply(obtener_valor_medio)\n",
        "    df['ESTU_HORASSEMANATRABAJA'] = df['ESTU_HORASSEMANATRABAJA'].fillna(df['ESTU_HORASSEMANATRABAJA'].median())\n",
        "\n",
        "    df[\"ESTU_VALORMATRICULAUNIVERSIDAD\"] = df[\"ESTU_VALORMATRICULAUNIVERSIDAD\"].apply(obtener_valor_medio2)\n",
        "    df['ESTU_VALORMATRICULAUNIVERSIDAD'] = df['ESTU_VALORMATRICULAUNIVERSIDAD'].fillna(df['ESTU_VALORMATRICULAUNIVERSIDAD'].median())\n",
        "\n",
        "    df[\"FAMI_ESTRATOVIVIENDA\"] = df[\"FAMI_ESTRATOVIVIENDA\"].apply(obtener_valor_medio2)\n",
        "    df['FAMI_ESTRATOVIVIENDA'] = df['FAMI_ESTRATOVIVIENDA'].fillna(df['FAMI_ESTRATOVIVIENDA'].median())\n",
        "\n",
        "    df = one_hot_encode_column(df, 'FAMI_TIENEINTERNET')\n",
        "    df = one_hot_encode_column(df, 'FAMI_EDUCACIONPADRE')\n",
        "    df = one_hot_encode_column(df, 'FAMI_TIENECOMPUTADOR')\n",
        "    df = one_hot_encode_column(df, 'FAMI_EDUCACIONMADRE')\n",
        "    df = one_hot_encode_column(df, 'ESTU_PRGM_DEPARTAMENTO')\n",
        "\n",
        "    df['ESTU_PRIVADO_LIBERTAD'] = df['ESTU_PRIVADO_LIBERTAD'].replace({'N': 'No', 'S': 'Si'})\n",
        "    df = one_hot_encode_column(df, 'ESTU_PRIVADO_LIBERTAD')\n",
        "\n",
        "    df['ESTU_PRGM_ACADEMICO'] = df['ESTU_PRGM_ACADEMICO'].apply(normalize_text)\n",
        "\n",
        "    #Se realiza una limpieza manual a la columna de programas para los datos que tienen simbolos dificiles de estandarizar en una función\n",
        "    replacements = {\n",
        "        'administraci¿n de empresas': 'administracion de empresas',\n",
        "        'ingenier¿a en software': 'ingenieria en software',\n",
        "        'administraci¿n log¿stica': 'administracion logistica',\n",
        "        'licenciatura en educaci¿n art¿stica': 'licenciatura en educacion artistica',\n",
        "        'licenciatura en pedagog¿a infantil': 'licenciatura en pedagogia infantil',\n",
        "        'dise¿¿o de comunicaci¿¿n gr¿¿fica': 'diseno de comunicacion grafica',\n",
        "        'geolog¿a': 'geologia',\n",
        "        'ingenier¿a de sistemas': 'ingenieria de sistemas',\n",
        "        'licenciatura en educaci¿n b¿sica primaria': 'licenciatura en educacion basica primaria',\n",
        "        'profesional en gastronom¿a': 'profesional en gastronomia',\n",
        "        'econom¿a': 'economia',\n",
        "        'comunicaci¿n social y periodismo': 'comunicacion social y periodismo',\n",
        "        'contaduria p¿blica': 'contaduria publica',\n",
        "        'licenciatura en educaci¿n con ¿nfasis en ciencias sociales y ambientales': 'licenciatura en educacion con enfasis en ciencias sociales y ambientales',\n",
        "        'licenciatura m¿sica': 'licenciatura musica',\n",
        "        'gesti¿n deportiva': 'gestion deportiva',\n",
        "        'licenciatura en lenguas extranjeras con ¿nfasis en ingl¿s': 'licenciatura en lenguas extranjeras con enfasis en ingles',\n",
        "        'dise¿o y administraci¿n de negocios de la moda': 'diseno y administracion de negocios de la moda',\n",
        "        'licenciatura en educaci¿n infantil': 'licenciatura en educacion infantil',\n",
        "        'comunicaci¿n social': 'comunicacion social',\n",
        "        'administraci¿n p¿blica': 'administracion publica',\n",
        "        'qu¿mica farmac¿utica': 'quimica farmaceutica',\n",
        "        'ingenier¿a el¿ctrica': 'ingenieria electrica',\n",
        "        'comunicaci¿n visual': 'comunicacion visual',\n",
        "        'ingenier¿a industrial': 'ingenieria industrial',\n",
        "        'dise¿o crossmedia': 'diseno crossmedia',\n",
        "        'licenciatura en filosof¿a y humanidades': 'licenciatura en filosofia y humanidades',\n",
        "        'licenciatura en educaci¿n f¿sica recreaci¿n y deportes': 'licenciatura en educacion fisica recreacion y deportes',\n",
        "        'licenciatura en artes esc¿nicas': 'licenciatura en artes escenicas',\n",
        "        'licenciatura en matem¿ticas': 'licenciatura en matematicas'\n",
        "    }\n",
        "\n",
        "    for original, replacement in replacements.items():\n",
        "        df['ESTU_PRGM_ACADEMICO'] = df['ESTU_PRGM_ACADEMICO'].str.replace(original, replacement)\n",
        "\n",
        "    df = one_hot_encode_column(df, 'ESTU_PRGM_ACADEMICO')\n",
        "\n",
        "    return df"
      ]
    },
    {
      "cell_type": "markdown",
      "metadata": {
        "id": "kUzAhhP-nXUR"
      },
      "source": [
        "##Se importan los archivos de train y test de kaggle que se usaran"
      ]
    },
    {
      "cell_type": "code",
      "execution_count": null,
      "metadata": {
        "colab": {
          "base_uri": "https://localhost:8080/"
        },
        "id": "d2y6dmlB5_wc",
        "outputId": "c46c3d61-8549-460b-d2c2-f965d40d0f6c"
      },
      "outputs": [
        {
          "output_type": "execute_result",
          "data": {
            "text/plain": [
              "((692500, 17), (296786, 16))"
            ]
          },
          "metadata": {},
          "execution_count": 4
        }
      ],
      "source": [
        "dtr = pd.read_csv(\"train.csv\")\n",
        "dts = pd.read_csv(\"test.csv\")\n",
        "lentr = len(dtr)\n",
        "dtr.shape, dts.shape"
      ]
    },
    {
      "cell_type": "markdown",
      "metadata": {
        "id": "kDoq3GUjnhob"
      },
      "source": [
        "##Se realiza la divición de los datos que se usaran para entrenar y para probar"
      ]
    },
    {
      "cell_type": "code",
      "execution_count": null,
      "metadata": {
        "colab": {
          "base_uri": "https://localhost:8080/"
        },
        "id": "di5ZaU2knfFc",
        "outputId": "8edd5caf-23bc-47ea-cf1e-a5dcd6c896f1"
      },
      "outputs": [
        {
          "output_type": "stream",
          "name": "stdout",
          "text": [
            "(692500, 66) (692500,)\n",
            "(296786, 66)\n"
          ]
        }
      ],
      "source": [
        "source_cols = [i for i in dtr.columns if i!=\"RENDIMIENTO_GLOBAL\"]\n",
        "all_data = pd.concat((dtr[source_cols], dts[source_cols]))\n",
        "all_data.index = range(len(all_data))\n",
        "all_data = Limpieza(all_data)\n",
        "\n",
        "Xtr, ytr = all_data.iloc[:lentr].values, dtr[\"RENDIMIENTO_GLOBAL\"].values\n",
        "Xts      = all_data.iloc[lentr:].values\n",
        "\n",
        "print (Xtr.shape, ytr.shape)\n",
        "print (Xts.shape)"
      ]
    },
    {
      "cell_type": "code",
      "execution_count": null,
      "metadata": {
        "colab": {
          "base_uri": "https://localhost:8080/"
        },
        "id": "YxJz3PxYno6z",
        "outputId": "906e3d0e-1424-4b52-8565-57f80c449c8b"
      },
      "outputs": [
        {
          "output_type": "execute_result",
          "data": {
            "text/plain": [
              "484749"
            ]
          },
          "metadata": {},
          "execution_count": 6
        }
      ],
      "source": [
        "n=int(len(Xtr)*0.7)\n",
        "n"
      ]
    },
    {
      "cell_type": "code",
      "execution_count": null,
      "metadata": {
        "colab": {
          "base_uri": "https://localhost:8080/"
        },
        "id": "MfBzPayAnq1T",
        "outputId": "9f483213-e16c-4d3c-8485-c757484a2e12"
      },
      "outputs": [
        {
          "output_type": "execute_result",
          "data": {
            "text/plain": [
              "((484749, 66), (484749,), (207751, 66), (207751,))"
            ]
          },
          "metadata": {},
          "execution_count": 7
        }
      ],
      "source": [
        "idxs=np.random.permutation(len(Xtr))\n",
        "idxs_trm=idxs[:n]\n",
        "idxs_tsm=idxs[n:]\n",
        "\n",
        "xtrm=Xtr[idxs_trm]\n",
        "ytrm=ytr[idxs_trm]\n",
        "\n",
        "xtsm=Xtr[idxs_tsm]\n",
        "ytsm=ytr[idxs_tsm]\n",
        "\n",
        "xtrm.shape, ytrm.shape, xtsm.shape,ytsm.shape"
      ]
    },
    {
      "cell_type": "markdown",
      "metadata": {
        "id": "SWE9JLn5n8E4"
      },
      "source": [
        "##Se inicia el codigo para entrenamiento"
      ]
    },
    {
      "cell_type": "code",
      "execution_count": null,
      "metadata": {
        "id": "0NoMXiOmn83R"
      },
      "outputs": [],
      "source": [
        "knn_clf = KNeighborsClassifier(\n",
        "    n_neighbors=5,\n",
        "    algorithm='auto'\n",
        ")\n",
        "knn_clf.fit(xtrm, ytrm)\n",
        "y_pred_knn = knn_clf.predict(xtsm)\n",
        "accuracy_knn = accuracy_score(ytsm, y_pred_knn)\n",
        "print(f'KNN Accuracy: {accuracy_knn:.2f}')"
      ]
    },
    {
      "cell_type": "code",
      "execution_count": null,
      "metadata": {
        "id": "54cEBeh1oPXa"
      },
      "outputs": [],
      "source": [
        "# Predicciones y generación de archivo\n",
        "preds_knn_tsk = knn_clf.predict(Xts)\n",
        "submission_knn = dts[[\"ID\"]].copy()\n",
        "submission_knn[\"RENDIMIENTO_GLOBAL\"] = preds_knn_tsk\n",
        "submission_knn.to_csv(\"archivo_knn.csv\", index=False)\n",
        "print(\"Archivo de predicciones para KNN generado: archivo_knn.csv\")"
      ]
    }
  ],
  "metadata": {
    "colab": {
      "provenance": []
    },
    "kernelspec": {
      "display_name": "Python 3",
      "name": "python3"
    },
    "language_info": {
      "name": "python"
    }
  },
  "nbformat": 4,
  "nbformat_minor": 0
}