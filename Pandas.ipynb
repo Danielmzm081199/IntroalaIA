{
  "nbformat": 4,
  "nbformat_minor": 0,
  "metadata": {
    "colab": {
      "provenance": [],
      "authorship_tag": "ABX9TyOFLaOUz8FaAExdmENOf4sg",
      "include_colab_link": true
    },
    "kernelspec": {
      "name": "python3",
      "display_name": "Python 3"
    },
    "language_info": {
      "name": "python"
    },
    "widgets": {
      "application/vnd.jupyter.widget-state+json": {
        "e3d5db71af684dea83e66596d22b9bb2": {
          "model_module": "@jupyter-widgets/controls",
          "model_name": "HBoxModel",
          "model_module_version": "1.5.0",
          "state": {
            "_dom_classes": [],
            "_model_module": "@jupyter-widgets/controls",
            "_model_module_version": "1.5.0",
            "_model_name": "HBoxModel",
            "_view_count": null,
            "_view_module": "@jupyter-widgets/controls",
            "_view_module_version": "1.5.0",
            "_view_name": "HBoxView",
            "box_style": "",
            "children": [
              "IPY_MODEL_a66f0c333847440194a4127790a9701a",
              "IPY_MODEL_f133bc88863a41fdbbb959ae0566882f",
              "IPY_MODEL_cdf1cd247404429497acd94bf0ac9a6d",
              "IPY_MODEL_f6740d63a753457a8a695e626754a303"
            ],
            "layout": "IPY_MODEL_9612b1842dc24580a809e8ce1c3595e1"
          }
        },
        "a66f0c333847440194a4127790a9701a": {
          "model_module": "@jupyter-widgets/controls",
          "model_name": "VBoxModel",
          "model_module_version": "1.5.0",
          "state": {
            "_dom_classes": [],
            "_model_module": "@jupyter-widgets/controls",
            "_model_module_version": "1.5.0",
            "_model_name": "VBoxModel",
            "_view_count": null,
            "_view_module": "@jupyter-widgets/controls",
            "_view_module_version": "1.5.0",
            "_view_name": "VBoxView",
            "box_style": "",
            "children": [
              "IPY_MODEL_d6091629b2e94996931dff7aee98f246",
              "IPY_MODEL_a42fc5342d60404db85f5c6c25139d6d"
            ],
            "layout": "IPY_MODEL_07658fc7c17946748fdd5ff61c12ec31"
          }
        },
        "f133bc88863a41fdbbb959ae0566882f": {
          "model_module": "@jupyter-widgets/controls",
          "model_name": "ButtonModel",
          "model_module_version": "1.5.0",
          "state": {
            "_dom_classes": [
              "login_button"
            ],
            "_model_module": "@jupyter-widgets/controls",
            "_model_module_version": "1.5.0",
            "_model_name": "ButtonModel",
            "_view_count": null,
            "_view_module": "@jupyter-widgets/controls",
            "_view_module_version": "1.5.0",
            "_view_name": "ButtonView",
            "button_style": "",
            "description": "Login with email",
            "disabled": false,
            "icon": "",
            "layout": "IPY_MODEL_53db1e66815448e18950964f18221441",
            "style": "IPY_MODEL_160b1515b1774f149d59bf8521daef83",
            "tooltip": ""
          }
        },
        "cdf1cd247404429497acd94bf0ac9a6d": {
          "model_module": "@jupyter-widgets/controls",
          "model_name": "HTMLModel",
          "model_module_version": "1.5.0",
          "state": {
            "_dom_classes": [],
            "_model_module": "@jupyter-widgets/controls",
            "_model_module_version": "1.5.0",
            "_model_name": "HTMLModel",
            "_view_count": null,
            "_view_module": "@jupyter-widgets/controls",
            "_view_module_version": "1.5.0",
            "_view_name": "HTMLView",
            "description": "",
            "description_tooltip": null,
            "layout": "IPY_MODEL_c05cc978199946efbea71fc81329bb56",
            "placeholder": "​",
            "style": "IPY_MODEL_4155b1bb10dd44b2be0080e98adee908",
            "value": "<center><big>or</big></center>"
          }
        },
        "f6740d63a753457a8a695e626754a303": {
          "model_module": "@jupyter-widgets/controls",
          "model_name": "ButtonModel",
          "model_module_version": "1.5.0",
          "state": {
            "_dom_classes": [
              "google_button"
            ],
            "_model_module": "@jupyter-widgets/controls",
            "_model_module_version": "1.5.0",
            "_model_name": "ButtonModel",
            "_view_count": null,
            "_view_module": "@jupyter-widgets/controls",
            "_view_module_version": "1.5.0",
            "_view_name": "ButtonView",
            "button_style": "",
            "description": "Login with Google",
            "disabled": false,
            "icon": "",
            "layout": "IPY_MODEL_8d9c5a84061c4df08e4a8290606fe00d",
            "style": "IPY_MODEL_25f590c149d04fb08697d27b775aec62",
            "tooltip": ""
          }
        },
        "9612b1842dc24580a809e8ce1c3595e1": {
          "model_module": "@jupyter-widgets/base",
          "model_name": "LayoutModel",
          "model_module_version": "1.2.0",
          "state": {
            "_model_module": "@jupyter-widgets/base",
            "_model_module_version": "1.2.0",
            "_model_name": "LayoutModel",
            "_view_count": null,
            "_view_module": "@jupyter-widgets/base",
            "_view_module_version": "1.2.0",
            "_view_name": "LayoutView",
            "align_content": null,
            "align_items": null,
            "align_self": null,
            "border": null,
            "bottom": null,
            "display": null,
            "flex": null,
            "flex_flow": null,
            "grid_area": null,
            "grid_auto_columns": null,
            "grid_auto_flow": null,
            "grid_auto_rows": null,
            "grid_column": null,
            "grid_gap": null,
            "grid_row": null,
            "grid_template_areas": null,
            "grid_template_columns": null,
            "grid_template_rows": null,
            "height": null,
            "justify_content": null,
            "justify_items": null,
            "left": null,
            "margin": null,
            "max_height": null,
            "max_width": null,
            "min_height": null,
            "min_width": null,
            "object_fit": null,
            "object_position": null,
            "order": null,
            "overflow": null,
            "overflow_x": null,
            "overflow_y": null,
            "padding": null,
            "right": null,
            "top": null,
            "visibility": null,
            "width": null
          }
        },
        "d6091629b2e94996931dff7aee98f246": {
          "model_module": "@jupyter-widgets/controls",
          "model_name": "TextModel",
          "model_module_version": "1.5.0",
          "state": {
            "_dom_classes": [],
            "_model_module": "@jupyter-widgets/controls",
            "_model_module_version": "1.5.0",
            "_model_name": "TextModel",
            "_view_count": null,
            "_view_module": "@jupyter-widgets/controls",
            "_view_module_version": "1.5.0",
            "_view_name": "TextView",
            "continuous_update": true,
            "description": "email",
            "description_tooltip": null,
            "disabled": false,
            "layout": "IPY_MODEL_3feed1f57c9b43968c9dc96773c02252",
            "placeholder": "​",
            "style": "IPY_MODEL_dd9c09e7965c4d3a919838a4ece74531",
            "value": ""
          }
        },
        "a42fc5342d60404db85f5c6c25139d6d": {
          "model_module": "@jupyter-widgets/controls",
          "model_name": "PasswordModel",
          "model_module_version": "1.5.0",
          "state": {
            "_dom_classes": [],
            "_model_module": "@jupyter-widgets/controls",
            "_model_module_version": "1.5.0",
            "_model_name": "PasswordModel",
            "_view_count": null,
            "_view_module": "@jupyter-widgets/controls",
            "_view_module_version": "1.5.0",
            "_view_name": "PasswordView",
            "continuous_update": true,
            "description": "password",
            "description_tooltip": null,
            "disabled": false,
            "layout": "IPY_MODEL_70ea865236cb4ee6b13b49953f3b5a40",
            "placeholder": "​",
            "style": "IPY_MODEL_5f8266f8049e4da9934fba6437b28ec8",
            "value": ""
          }
        },
        "07658fc7c17946748fdd5ff61c12ec31": {
          "model_module": "@jupyter-widgets/base",
          "model_name": "LayoutModel",
          "model_module_version": "1.2.0",
          "state": {
            "_model_module": "@jupyter-widgets/base",
            "_model_module_version": "1.2.0",
            "_model_name": "LayoutModel",
            "_view_count": null,
            "_view_module": "@jupyter-widgets/base",
            "_view_module_version": "1.2.0",
            "_view_name": "LayoutView",
            "align_content": null,
            "align_items": null,
            "align_self": null,
            "border": null,
            "bottom": null,
            "display": null,
            "flex": null,
            "flex_flow": null,
            "grid_area": null,
            "grid_auto_columns": null,
            "grid_auto_flow": null,
            "grid_auto_rows": null,
            "grid_column": null,
            "grid_gap": null,
            "grid_row": null,
            "grid_template_areas": null,
            "grid_template_columns": null,
            "grid_template_rows": null,
            "height": null,
            "justify_content": null,
            "justify_items": null,
            "left": null,
            "margin": null,
            "max_height": null,
            "max_width": null,
            "min_height": null,
            "min_width": null,
            "object_fit": null,
            "object_position": null,
            "order": null,
            "overflow": null,
            "overflow_x": null,
            "overflow_y": null,
            "padding": null,
            "right": null,
            "top": null,
            "visibility": null,
            "width": null
          }
        },
        "53db1e66815448e18950964f18221441": {
          "model_module": "@jupyter-widgets/base",
          "model_name": "LayoutModel",
          "model_module_version": "1.2.0",
          "state": {
            "_model_module": "@jupyter-widgets/base",
            "_model_module_version": "1.2.0",
            "_model_name": "LayoutModel",
            "_view_count": null,
            "_view_module": "@jupyter-widgets/base",
            "_view_module_version": "1.2.0",
            "_view_name": "LayoutView",
            "align_content": null,
            "align_items": null,
            "align_self": null,
            "border": null,
            "bottom": null,
            "display": null,
            "flex": null,
            "flex_flow": null,
            "grid_area": null,
            "grid_auto_columns": null,
            "grid_auto_flow": null,
            "grid_auto_rows": null,
            "grid_column": null,
            "grid_gap": null,
            "grid_row": null,
            "grid_template_areas": null,
            "grid_template_columns": null,
            "grid_template_rows": null,
            "height": "53px",
            "justify_content": null,
            "justify_items": null,
            "left": null,
            "margin": null,
            "max_height": null,
            "max_width": null,
            "min_height": null,
            "min_width": null,
            "object_fit": null,
            "object_position": null,
            "order": null,
            "overflow": null,
            "overflow_x": null,
            "overflow_y": null,
            "padding": null,
            "right": null,
            "top": null,
            "visibility": null,
            "width": "150px"
          }
        },
        "160b1515b1774f149d59bf8521daef83": {
          "model_module": "@jupyter-widgets/controls",
          "model_name": "ButtonStyleModel",
          "model_module_version": "1.5.0",
          "state": {
            "_model_module": "@jupyter-widgets/controls",
            "_model_module_version": "1.5.0",
            "_model_name": "ButtonStyleModel",
            "_view_count": null,
            "_view_module": "@jupyter-widgets/base",
            "_view_module_version": "1.2.0",
            "_view_name": "StyleView",
            "button_color": null,
            "font_weight": ""
          }
        },
        "c05cc978199946efbea71fc81329bb56": {
          "model_module": "@jupyter-widgets/base",
          "model_name": "LayoutModel",
          "model_module_version": "1.2.0",
          "state": {
            "_model_module": "@jupyter-widgets/base",
            "_model_module_version": "1.2.0",
            "_model_name": "LayoutModel",
            "_view_count": null,
            "_view_module": "@jupyter-widgets/base",
            "_view_module_version": "1.2.0",
            "_view_name": "LayoutView",
            "align_content": null,
            "align_items": null,
            "align_self": null,
            "border": null,
            "bottom": null,
            "display": null,
            "flex": null,
            "flex_flow": null,
            "grid_area": null,
            "grid_auto_columns": null,
            "grid_auto_flow": null,
            "grid_auto_rows": null,
            "grid_column": null,
            "grid_gap": null,
            "grid_row": null,
            "grid_template_areas": null,
            "grid_template_columns": null,
            "grid_template_rows": null,
            "height": null,
            "justify_content": null,
            "justify_items": null,
            "left": null,
            "margin": null,
            "max_height": null,
            "max_width": null,
            "min_height": null,
            "min_width": null,
            "object_fit": null,
            "object_position": null,
            "order": null,
            "overflow": null,
            "overflow_x": null,
            "overflow_y": null,
            "padding": null,
            "right": null,
            "top": null,
            "visibility": null,
            "width": "100px"
          }
        },
        "4155b1bb10dd44b2be0080e98adee908": {
          "model_module": "@jupyter-widgets/controls",
          "model_name": "DescriptionStyleModel",
          "model_module_version": "1.5.0",
          "state": {
            "_model_module": "@jupyter-widgets/controls",
            "_model_module_version": "1.5.0",
            "_model_name": "DescriptionStyleModel",
            "_view_count": null,
            "_view_module": "@jupyter-widgets/base",
            "_view_module_version": "1.2.0",
            "_view_name": "StyleView",
            "description_width": ""
          }
        },
        "8d9c5a84061c4df08e4a8290606fe00d": {
          "model_module": "@jupyter-widgets/base",
          "model_name": "LayoutModel",
          "model_module_version": "1.2.0",
          "state": {
            "_model_module": "@jupyter-widgets/base",
            "_model_module_version": "1.2.0",
            "_model_name": "LayoutModel",
            "_view_count": null,
            "_view_module": "@jupyter-widgets/base",
            "_view_module_version": "1.2.0",
            "_view_name": "LayoutView",
            "align_content": null,
            "align_items": null,
            "align_self": null,
            "border": null,
            "bottom": null,
            "display": null,
            "flex": null,
            "flex_flow": null,
            "grid_area": null,
            "grid_auto_columns": null,
            "grid_auto_flow": null,
            "grid_auto_rows": null,
            "grid_column": null,
            "grid_gap": null,
            "grid_row": null,
            "grid_template_areas": null,
            "grid_template_columns": null,
            "grid_template_rows": null,
            "height": "53px",
            "justify_content": null,
            "justify_items": null,
            "left": null,
            "margin": null,
            "max_height": null,
            "max_width": null,
            "min_height": null,
            "min_width": null,
            "object_fit": null,
            "object_position": null,
            "order": null,
            "overflow": null,
            "overflow_x": null,
            "overflow_y": null,
            "padding": null,
            "right": null,
            "top": null,
            "visibility": null,
            "width": "200px"
          }
        },
        "25f590c149d04fb08697d27b775aec62": {
          "model_module": "@jupyter-widgets/controls",
          "model_name": "ButtonStyleModel",
          "model_module_version": "1.5.0",
          "state": {
            "_model_module": "@jupyter-widgets/controls",
            "_model_module_version": "1.5.0",
            "_model_name": "ButtonStyleModel",
            "_view_count": null,
            "_view_module": "@jupyter-widgets/base",
            "_view_module_version": "1.2.0",
            "_view_name": "StyleView",
            "button_color": null,
            "font_weight": ""
          }
        },
        "3feed1f57c9b43968c9dc96773c02252": {
          "model_module": "@jupyter-widgets/base",
          "model_name": "LayoutModel",
          "model_module_version": "1.2.0",
          "state": {
            "_model_module": "@jupyter-widgets/base",
            "_model_module_version": "1.2.0",
            "_model_name": "LayoutModel",
            "_view_count": null,
            "_view_module": "@jupyter-widgets/base",
            "_view_module_version": "1.2.0",
            "_view_name": "LayoutView",
            "align_content": null,
            "align_items": null,
            "align_self": null,
            "border": null,
            "bottom": null,
            "display": null,
            "flex": null,
            "flex_flow": null,
            "grid_area": null,
            "grid_auto_columns": null,
            "grid_auto_flow": null,
            "grid_auto_rows": null,
            "grid_column": null,
            "grid_gap": null,
            "grid_row": null,
            "grid_template_areas": null,
            "grid_template_columns": null,
            "grid_template_rows": null,
            "height": "25px",
            "justify_content": null,
            "justify_items": null,
            "left": null,
            "margin": null,
            "max_height": null,
            "max_width": null,
            "min_height": null,
            "min_width": null,
            "object_fit": null,
            "object_position": null,
            "order": null,
            "overflow": null,
            "overflow_x": null,
            "overflow_y": null,
            "padding": null,
            "right": null,
            "top": null,
            "visibility": null,
            "width": "300px"
          }
        },
        "dd9c09e7965c4d3a919838a4ece74531": {
          "model_module": "@jupyter-widgets/controls",
          "model_name": "DescriptionStyleModel",
          "model_module_version": "1.5.0",
          "state": {
            "_model_module": "@jupyter-widgets/controls",
            "_model_module_version": "1.5.0",
            "_model_name": "DescriptionStyleModel",
            "_view_count": null,
            "_view_module": "@jupyter-widgets/base",
            "_view_module_version": "1.2.0",
            "_view_name": "StyleView",
            "description_width": ""
          }
        },
        "70ea865236cb4ee6b13b49953f3b5a40": {
          "model_module": "@jupyter-widgets/base",
          "model_name": "LayoutModel",
          "model_module_version": "1.2.0",
          "state": {
            "_model_module": "@jupyter-widgets/base",
            "_model_module_version": "1.2.0",
            "_model_name": "LayoutModel",
            "_view_count": null,
            "_view_module": "@jupyter-widgets/base",
            "_view_module_version": "1.2.0",
            "_view_name": "LayoutView",
            "align_content": null,
            "align_items": null,
            "align_self": null,
            "border": null,
            "bottom": null,
            "display": null,
            "flex": null,
            "flex_flow": null,
            "grid_area": null,
            "grid_auto_columns": null,
            "grid_auto_flow": null,
            "grid_auto_rows": null,
            "grid_column": null,
            "grid_gap": null,
            "grid_row": null,
            "grid_template_areas": null,
            "grid_template_columns": null,
            "grid_template_rows": null,
            "height": "24px",
            "justify_content": null,
            "justify_items": null,
            "left": null,
            "margin": null,
            "max_height": null,
            "max_width": null,
            "min_height": null,
            "min_width": null,
            "object_fit": null,
            "object_position": null,
            "order": null,
            "overflow": null,
            "overflow_x": null,
            "overflow_y": null,
            "padding": null,
            "right": null,
            "top": null,
            "visibility": null,
            "width": "300px"
          }
        },
        "5f8266f8049e4da9934fba6437b28ec8": {
          "model_module": "@jupyter-widgets/controls",
          "model_name": "DescriptionStyleModel",
          "model_module_version": "1.5.0",
          "state": {
            "_model_module": "@jupyter-widgets/controls",
            "_model_module_version": "1.5.0",
            "_model_name": "DescriptionStyleModel",
            "_view_count": null,
            "_view_module": "@jupyter-widgets/base",
            "_view_module_version": "1.2.0",
            "_view_name": "StyleView",
            "description_width": ""
          }
        }
      }
    }
  },
  "cells": [
    {
      "cell_type": "markdown",
      "metadata": {
        "id": "view-in-github",
        "colab_type": "text"
      },
      "source": [
        "<a href=\"https://colab.research.google.com/github/Danielmzm081199/IntroalaIA/blob/main/Pandas.ipynb\" target=\"_parent\"><img src=\"https://colab.research.google.com/assets/colab-badge.svg\" alt=\"Open In Colab\"/></a>"
      ]
    },
    {
      "cell_type": "code",
      "source": [
        "!wget --no-cache -O init.py -q https://raw.githubusercontent.com/rramosp/ai4eng.v1/main/content/init.py\n",
        "import init; init.init(force_download=False); init.get_weblink()"
      ],
      "metadata": {
        "colab": {
          "base_uri": "https://localhost:8080/",
          "height": 75
        },
        "id": "an5kVcsflnJz",
        "outputId": "53b52cac-f8aa-4d6a-be70-aad7043b682c"
      },
      "execution_count": 3,
      "outputs": [
        {
          "output_type": "display_data",
          "data": {
            "text/plain": [
              "<IPython.core.display.HTML object>"
            ],
            "text/html": [
              "\n",
              "<meta name=\"google-signin-client_id\"\n",
              "      content=\"461673936472-kdjosv61up3ac1ajeuq6qqu72upilmls.apps.googleusercontent.com\"/>\n",
              "<script src=\"https://apis.google.com/js/client:platform.js?onload=google_button_start\"></script>\n",
              "    "
            ]
          },
          "metadata": {}
        },
        {
          "output_type": "stream",
          "name": "stdout",
          "text": [
            "replicating local resources\n"
          ]
        },
        {
          "output_type": "execute_result",
          "data": {
            "text/plain": [
              "<IPython.core.display.HTML object>"
            ],
            "text/html": [
              "<h3>See <a href='https://m5knaekxo6.execute-api.us-west-2.amazonaws.com/dev-v0001/rlxmooc/web/login' target='_blank'>my courses and progress</a></h2>"
            ]
          },
          "metadata": {},
          "execution_count": 3
        }
      ]
    },
    {
      "cell_type": "code",
      "source": [
        "from local.lib.rlxmoocapi import submit, session\n",
        "session.LoginSequence(endpoint=init.endpoint, course_id=init.course_id, lab_id=\"L02.03\", varname=\"student\");"
      ],
      "metadata": {
        "colab": {
          "base_uri": "https://localhost:8080/",
          "height": 135,
          "referenced_widgets": [
            "e3d5db71af684dea83e66596d22b9bb2",
            "a66f0c333847440194a4127790a9701a",
            "f133bc88863a41fdbbb959ae0566882f",
            "cdf1cd247404429497acd94bf0ac9a6d",
            "f6740d63a753457a8a695e626754a303",
            "9612b1842dc24580a809e8ce1c3595e1",
            "d6091629b2e94996931dff7aee98f246",
            "a42fc5342d60404db85f5c6c25139d6d",
            "07658fc7c17946748fdd5ff61c12ec31",
            "53db1e66815448e18950964f18221441",
            "160b1515b1774f149d59bf8521daef83",
            "c05cc978199946efbea71fc81329bb56",
            "4155b1bb10dd44b2be0080e98adee908",
            "8d9c5a84061c4df08e4a8290606fe00d",
            "25f590c149d04fb08697d27b775aec62",
            "3feed1f57c9b43968c9dc96773c02252",
            "dd9c09e7965c4d3a919838a4ece74531",
            "70ea865236cb4ee6b13b49953f3b5a40",
            "5f8266f8049e4da9934fba6437b28ec8"
          ]
        },
        "id": "3fv4JkJDlqGZ",
        "outputId": "8a29e25f-072f-42ab-f599-1cc9d22da75b"
      },
      "execution_count": 5,
      "outputs": [
        {
          "output_type": "stream",
          "name": "stdout",
          "text": [
            "logging in as daniel.munozm@udea.edu.co... please wait\n",
            "using course session ai4eng.v1.udea.r3::2024.1\n",
            "success!! you are logged in\n"
          ]
        }
      ]
    },
    {
      "cell_type": "code",
      "source": [
        "import pandas as pd\n",
        "import numpy as np\n",
        "\n",
        "def create_df(missing=False, n=10):\n",
        "    itemid = np.random.randint(100000, size=n) + 1000\n",
        "    category = np.random.randint(3, size=n)\n",
        "    price = np.round(np.random.normal(loc=100, scale=10, size=n), 2)\n",
        "    margin = np.round(np.random.normal(loc=10, scale=1, size=n), 2)\n",
        "\n",
        "    if missing:\n",
        "        nmissing = np.random.randint(len(price) // 2) + 2\n",
        "        price[np.random.permutation(len(price))[:nmissing]] = np.nan\n",
        "\n",
        "    d = pd.DataFrame(np.r_[[price, category, margin]].T, index=itemid, columns=[\"price\", \"category\", \"margin\"])\n",
        "    d.index.name = \"itemid\"\n",
        "    if np.random.random() > .5:\n",
        "        d = d[d.columns[:2]]\n",
        "\n",
        "    return d\n",
        "\n",
        "def select_items(df):\n",
        "    # make sure to make a copy in case you modify the original df\n",
        "    df = df.copy()\n",
        "\n",
        "    # Filtrar las filas cuyo precio es mayor que 100\n",
        "    filtro_precio = df[\"price\"] > 100\n",
        "\n",
        "    # Filtrar las filas cuyo margen es mayor que 10, si la columna \"margin\" está presente\n",
        "    filtro_margin = df.get(\"margin\", -1) > 10\n",
        "\n",
        "    # Combinar los filtros con un operador lógico OR\n",
        "    filtro_final = filtro_precio | filtro_margin\n",
        "\n",
        "    # Seleccionar los identificadores de elementos de las filas seleccionadas\n",
        "    result = df.index[filtro_final].tolist()\n",
        "\n",
        "    return result\n",
        "\n",
        "# Ejemplo de uso:\n",
        "d = create_df()\n",
        "print(d)\n",
        "\n",
        "items_seleccionados = select_items(d)\n",
        "print(items_seleccionados)\n",
        "\n"
      ],
      "metadata": {
        "colab": {
          "base_uri": "https://localhost:8080/"
        },
        "id": "26jBkIZwlvDt",
        "outputId": "e86a7fe3-2981-4a5f-c39d-c96077c6159c"
      },
      "execution_count": 8,
      "outputs": [
        {
          "output_type": "stream",
          "name": "stdout",
          "text": [
            "         price  category  margin\n",
            "itemid                          \n",
            "33252    88.75       1.0   10.05\n",
            "90271    90.46       0.0    9.63\n",
            "12016    86.93       0.0    9.62\n",
            "26845    91.37       0.0   10.39\n",
            "47830   116.05       0.0   11.66\n",
            "74654    98.40       1.0    9.77\n",
            "83446    96.54       0.0   10.72\n",
            "59064   102.16       1.0   10.06\n",
            "60480    99.53       1.0    9.26\n",
            "65420   120.94       2.0    9.74\n",
            "[33252, 26845, 47830, 83446, 59064, 65420]\n"
          ]
        }
      ]
    },
    {
      "cell_type": "code",
      "source": [
        "student.submit_task(globals(), task_id=\"task_01\");"
      ],
      "metadata": {
        "colab": {
          "base_uri": "https://localhost:8080/",
          "height": 158
        },
        "id": "JRMX0DBvlxWq",
        "outputId": "df61af36-fe07-4449-b1f0-25bf130f14ef"
      },
      "execution_count": 9,
      "outputs": [
        {
          "output_type": "display_data",
          "data": {
            "text/plain": [
              "<IPython.core.display.HTML object>"
            ],
            "text/html": [
              "\n",
              "                    <b>task_01 submitted.</b> <b><font color=\"blue\">your grade is 5</font></b> \n",
              "                    <p/><pre>----- grader message -------</pre><br/>testing with 100 random calls<br/><b>correct</b><pre>----------------------------</pre>\n",
              "                    <p/><p/>\n",
              "                    <div style=\"font-size:10px\"><b>SUBMISSION CODE</b> qihjMfpWYAFKDbbYaQHRY0CeglmhRiXdPxThFtX1QAdlkl6ZegIKHk3130nmsC93RX44GylIJszHC1mNn5T/+y6lU9FVA9fXi8UfezAwBnGOtz32sMrR0O0iZaZeXDNsNQu8mXhTMNc0YUn+6kyM1UgFq6A6UxRQCY6MOkWyZCE=</div>\n",
              "                    "
            ]
          },
          "metadata": {}
        }
      ]
    },
    {
      "cell_type": "code",
      "source": [
        "def get_stats(df):\n",
        "    # make sure to make a copy in case you modify the original df\n",
        "    df = df.copy()\n",
        "\n",
        "    # Agrupar por categoría y calcular las estadísticas\n",
        "    stats = df.groupby(\"category\")[\"price\"].agg(['mean', 'max', 'min'])\n",
        "\n",
        "    # Renombrar las columnas\n",
        "    stats.columns = [\"media\", \"maximo\", \"minimo\"]\n",
        "\n",
        "    # Cambiar el nombre del índice\n",
        "    stats.index.name = \"categoria\"\n",
        "\n",
        "    # Convertir el índice a tipo int\n",
        "    stats.index = stats.index.astype(int)\n",
        "\n",
        "    return stats\n",
        "\n",
        "# Ejemplo de uso:\n",
        "d = create_df(n=10)\n",
        "print(d)\n",
        "\n",
        "resultado = get_stats(d)\n",
        "print(resultado)\n"
      ],
      "metadata": {
        "colab": {
          "base_uri": "https://localhost:8080/"
        },
        "id": "js9Cbnv2m1Rs",
        "outputId": "f704dca8-31cd-4d5c-e7d1-276fcd32f931"
      },
      "execution_count": 14,
      "outputs": [
        {
          "output_type": "stream",
          "name": "stdout",
          "text": [
            "         price  category  margin\n",
            "itemid                          \n",
            "78841    98.61       2.0   11.19\n",
            "30933   128.41       2.0   11.11\n",
            "60126   104.94       1.0   10.59\n",
            "93879    98.01       2.0    8.38\n",
            "64618   106.29       1.0   10.62\n",
            "16023   104.82       1.0    8.81\n",
            "12114    88.26       2.0    8.39\n",
            "61832    99.91       0.0    9.69\n",
            "66731    73.60       2.0    8.88\n",
            "9103    105.81       2.0   11.29\n",
            "                media  maximo  minimo\n",
            "categoria                            \n",
            "0           99.910000   99.91   99.91\n",
            "1          105.350000  106.29  104.82\n",
            "2           98.783333  128.41   73.60\n"
          ]
        }
      ]
    },
    {
      "cell_type": "code",
      "source": [
        "student.submit_task(globals(), task_id=\"task_02\");"
      ],
      "metadata": {
        "colab": {
          "base_uri": "https://localhost:8080/",
          "height": 163
        },
        "id": "HPzW7z6wm39F",
        "outputId": "29beec4f-c030-4eb7-eb6a-c758010201a4"
      },
      "execution_count": 15,
      "outputs": [
        {
          "output_type": "display_data",
          "data": {
            "text/plain": [
              "<IPython.core.display.HTML object>"
            ],
            "text/html": [
              "\n",
              "                    <b>task_02 submitted.</b> <b><font color=\"blue\">your grade is 5</font></b> \n",
              "                    <p/><pre>----- grader message -------</pre><br/>testing with 100 random calls<br/><br/><b>correct</b><pre>----------------------------</pre>\n",
              "                    <p/><p/>\n",
              "                    <div style=\"font-size:10px\"><b>SUBMISSION CODE</b> 96VmGLvLueGmJ+W5FTsauE463EeZ/AHwrWmfsnpMj4mj/66FE7SbEUMcj32lFFqd1jraZcSw4VnJXdwm6D8jTSqlCq3EIQDJ3SIT+SDTu87KPLcD4w3zUPUCWzq0/8Q0CI2QKcgLVeX3CGnS/uh47YF7Ou0xiSrneeYm7UEQkfE=</div>\n",
              "                    "
            ]
          },
          "metadata": {}
        }
      ]
    },
    {
      "cell_type": "code",
      "source": [
        "import numpy as np\n",
        "\n",
        "def fillna(df):\n",
        "    # make sure to make a copy in case you modify the original df\n",
        "    df = df.copy()\n",
        "\n",
        "    # Calcular la media y la desviación estándar de los precios disponibles\n",
        "    precio_mean = df['price'].mean()\n",
        "    precio_std = df['price'].std()\n",
        "\n",
        "    # Generar muestras de una distribución normal con la media y la desviación estándar calculadas\n",
        "    muestras = np.random.normal(loc=precio_mean, scale=precio_std, size=df['price'].isna().sum())\n",
        "\n",
        "    # Sustituir los valores faltantes con las muestras generadas\n",
        "    df.loc[df['price'].isna(), 'price'] = muestras\n",
        "\n",
        "    return df\n",
        "\n",
        "# Ejemplo de uso:\n",
        "d = create_df(missing=True)\n",
        "print(d)\n",
        "\n",
        "resultado = fillna(d)\n",
        "print(resultado)\n"
      ],
      "metadata": {
        "colab": {
          "base_uri": "https://localhost:8080/"
        },
        "id": "F5qXULt5ndOt",
        "outputId": "3b17bc65-d0c5-4fef-91d9-848a4c6b3910"
      },
      "execution_count": 16,
      "outputs": [
        {
          "output_type": "stream",
          "name": "stdout",
          "text": [
            "         price  category\n",
            "itemid                  \n",
            "92301   101.65       1.0\n",
            "17970    92.88       1.0\n",
            "97060      NaN       1.0\n",
            "69731      NaN       1.0\n",
            "4484    110.77       0.0\n",
            "25617    97.94       0.0\n",
            "4285       NaN       0.0\n",
            "80932    93.17       1.0\n",
            "21403      NaN       1.0\n",
            "94542    95.99       0.0\n",
            "             price  category\n",
            "itemid                      \n",
            "92301   101.650000       1.0\n",
            "17970    92.880000       1.0\n",
            "97060   100.521824       1.0\n",
            "69731   107.475638       1.0\n",
            "4484    110.770000       0.0\n",
            "25617    97.940000       0.0\n",
            "4285    104.155575       0.0\n",
            "80932    93.170000       1.0\n",
            "21403   109.145586       1.0\n",
            "94542    95.990000       0.0\n"
          ]
        }
      ]
    },
    {
      "cell_type": "code",
      "source": [
        "student.submit_task(globals(), task_id=\"task_03\");"
      ],
      "metadata": {
        "colab": {
          "base_uri": "https://localhost:8080/",
          "height": 163
        },
        "id": "zAwvY4aNnimf",
        "outputId": "d54b8ccb-340f-4d7c-a3e0-d1b976df20ac"
      },
      "execution_count": 17,
      "outputs": [
        {
          "output_type": "display_data",
          "data": {
            "text/plain": [
              "<IPython.core.display.HTML object>"
            ],
            "text/html": [
              "\n",
              "                    <b>task_03 submitted.</b> <b><font color=\"blue\">your grade is 5</font></b> \n",
              "                    <p/><pre>----- grader message -------</pre><br/>testing with 100 random calls<br/><br/><b>correct</b><pre>----------------------------</pre>\n",
              "                    <p/><p/>\n",
              "                    <div style=\"font-size:10px\"><b>SUBMISSION CODE</b> hEssQwVaQ5qgseWCZSFQAwzrgLs2eojO8xU6aKjO+QoApflKA42r7hJyCJ2o+xlcqY0Klb2+Muc07gFTTCWCa5x8lGzVMXF3Y4QDGjmUV1XViqS7PLR+iKgJKGPyMYXxSi6F13rTY2iJ+nhf1YrllGrop03xJpIKvyULTe9u3XQ=</div>\n",
              "                    "
            ]
          },
          "metadata": {}
        }
      ]
    }
  ]
}