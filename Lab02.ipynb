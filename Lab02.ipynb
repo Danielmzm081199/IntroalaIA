{
  "nbformat": 4,
  "nbformat_minor": 0,
  "metadata": {
    "colab": {
      "provenance": [],
      "authorship_tag": "ABX9TyNShtBw5F/JkJ2m5YG1B/d5",
      "include_colab_link": true
    },
    "kernelspec": {
      "name": "python3",
      "display_name": "Python 3"
    },
    "language_info": {
      "name": "python"
    },
    "widgets": {
      "application/vnd.jupyter.widget-state+json": {
        "f9e8881c82624423bc7d0f97443f902e": {
          "model_module": "@jupyter-widgets/controls",
          "model_name": "HBoxModel",
          "model_module_version": "1.5.0",
          "state": {
            "_dom_classes": [],
            "_model_module": "@jupyter-widgets/controls",
            "_model_module_version": "1.5.0",
            "_model_name": "HBoxModel",
            "_view_count": null,
            "_view_module": "@jupyter-widgets/controls",
            "_view_module_version": "1.5.0",
            "_view_name": "HBoxView",
            "box_style": "",
            "children": [
              "IPY_MODEL_31f2d64459854df98688bfa35e56015e",
              "IPY_MODEL_459f31c522684648bf4acde214d8b275",
              "IPY_MODEL_6fb1997f4dc240d189a1f59658501fa7",
              "IPY_MODEL_682231e104fb4a5783d7bb52bec7b191"
            ],
            "layout": "IPY_MODEL_432363891b5c499491c6a67d33132c2d"
          }
        },
        "31f2d64459854df98688bfa35e56015e": {
          "model_module": "@jupyter-widgets/controls",
          "model_name": "VBoxModel",
          "model_module_version": "1.5.0",
          "state": {
            "_dom_classes": [],
            "_model_module": "@jupyter-widgets/controls",
            "_model_module_version": "1.5.0",
            "_model_name": "VBoxModel",
            "_view_count": null,
            "_view_module": "@jupyter-widgets/controls",
            "_view_module_version": "1.5.0",
            "_view_name": "VBoxView",
            "box_style": "",
            "children": [
              "IPY_MODEL_9cabe2ddcf364677a215f24a7d20a2ab",
              "IPY_MODEL_3ecba7ea3bea4f0db84a712b27de4812"
            ],
            "layout": "IPY_MODEL_68d3e130bbe14f59ab2dead337c6de38"
          }
        },
        "459f31c522684648bf4acde214d8b275": {
          "model_module": "@jupyter-widgets/controls",
          "model_name": "ButtonModel",
          "model_module_version": "1.5.0",
          "state": {
            "_dom_classes": [
              "login_button"
            ],
            "_model_module": "@jupyter-widgets/controls",
            "_model_module_version": "1.5.0",
            "_model_name": "ButtonModel",
            "_view_count": null,
            "_view_module": "@jupyter-widgets/controls",
            "_view_module_version": "1.5.0",
            "_view_name": "ButtonView",
            "button_style": "",
            "description": "Login with email",
            "disabled": false,
            "icon": "",
            "layout": "IPY_MODEL_482f0b46293f42a6bc5412da9acebf55",
            "style": "IPY_MODEL_26ad1d5976ee4fbfa6f24e6e652de446",
            "tooltip": ""
          }
        },
        "6fb1997f4dc240d189a1f59658501fa7": {
          "model_module": "@jupyter-widgets/controls",
          "model_name": "HTMLModel",
          "model_module_version": "1.5.0",
          "state": {
            "_dom_classes": [],
            "_model_module": "@jupyter-widgets/controls",
            "_model_module_version": "1.5.0",
            "_model_name": "HTMLModel",
            "_view_count": null,
            "_view_module": "@jupyter-widgets/controls",
            "_view_module_version": "1.5.0",
            "_view_name": "HTMLView",
            "description": "",
            "description_tooltip": null,
            "layout": "IPY_MODEL_61d2ba70a6fb4f1eb40c0276e570f84c",
            "placeholder": "​",
            "style": "IPY_MODEL_8b37920dc2df4b6582d4ac3f5a2a8c3b",
            "value": "<center><big>or</big></center>"
          }
        },
        "682231e104fb4a5783d7bb52bec7b191": {
          "model_module": "@jupyter-widgets/controls",
          "model_name": "ButtonModel",
          "model_module_version": "1.5.0",
          "state": {
            "_dom_classes": [
              "google_button"
            ],
            "_model_module": "@jupyter-widgets/controls",
            "_model_module_version": "1.5.0",
            "_model_name": "ButtonModel",
            "_view_count": null,
            "_view_module": "@jupyter-widgets/controls",
            "_view_module_version": "1.5.0",
            "_view_name": "ButtonView",
            "button_style": "",
            "description": "Login with Google",
            "disabled": false,
            "icon": "",
            "layout": "IPY_MODEL_8f158758948546edba1dd510ade5f57f",
            "style": "IPY_MODEL_79f82825289d4d91a9d88f14dcf72d3d",
            "tooltip": ""
          }
        },
        "432363891b5c499491c6a67d33132c2d": {
          "model_module": "@jupyter-widgets/base",
          "model_name": "LayoutModel",
          "model_module_version": "1.2.0",
          "state": {
            "_model_module": "@jupyter-widgets/base",
            "_model_module_version": "1.2.0",
            "_model_name": "LayoutModel",
            "_view_count": null,
            "_view_module": "@jupyter-widgets/base",
            "_view_module_version": "1.2.0",
            "_view_name": "LayoutView",
            "align_content": null,
            "align_items": null,
            "align_self": null,
            "border": null,
            "bottom": null,
            "display": null,
            "flex": null,
            "flex_flow": null,
            "grid_area": null,
            "grid_auto_columns": null,
            "grid_auto_flow": null,
            "grid_auto_rows": null,
            "grid_column": null,
            "grid_gap": null,
            "grid_row": null,
            "grid_template_areas": null,
            "grid_template_columns": null,
            "grid_template_rows": null,
            "height": null,
            "justify_content": null,
            "justify_items": null,
            "left": null,
            "margin": null,
            "max_height": null,
            "max_width": null,
            "min_height": null,
            "min_width": null,
            "object_fit": null,
            "object_position": null,
            "order": null,
            "overflow": null,
            "overflow_x": null,
            "overflow_y": null,
            "padding": null,
            "right": null,
            "top": null,
            "visibility": null,
            "width": null
          }
        },
        "9cabe2ddcf364677a215f24a7d20a2ab": {
          "model_module": "@jupyter-widgets/controls",
          "model_name": "TextModel",
          "model_module_version": "1.5.0",
          "state": {
            "_dom_classes": [],
            "_model_module": "@jupyter-widgets/controls",
            "_model_module_version": "1.5.0",
            "_model_name": "TextModel",
            "_view_count": null,
            "_view_module": "@jupyter-widgets/controls",
            "_view_module_version": "1.5.0",
            "_view_name": "TextView",
            "continuous_update": true,
            "description": "email",
            "description_tooltip": null,
            "disabled": false,
            "layout": "IPY_MODEL_87c051ddc5254b24b3d7e4ca62d100a8",
            "placeholder": "​",
            "style": "IPY_MODEL_71b70838594b4867892c2792710b5277",
            "value": ""
          }
        },
        "3ecba7ea3bea4f0db84a712b27de4812": {
          "model_module": "@jupyter-widgets/controls",
          "model_name": "PasswordModel",
          "model_module_version": "1.5.0",
          "state": {
            "_dom_classes": [],
            "_model_module": "@jupyter-widgets/controls",
            "_model_module_version": "1.5.0",
            "_model_name": "PasswordModel",
            "_view_count": null,
            "_view_module": "@jupyter-widgets/controls",
            "_view_module_version": "1.5.0",
            "_view_name": "PasswordView",
            "continuous_update": true,
            "description": "password",
            "description_tooltip": null,
            "disabled": false,
            "layout": "IPY_MODEL_f53a0d4a6bc549a8bae389396e11731b",
            "placeholder": "​",
            "style": "IPY_MODEL_aef53c1394dc46f0823ecf1d4bbfc83b",
            "value": ""
          }
        },
        "68d3e130bbe14f59ab2dead337c6de38": {
          "model_module": "@jupyter-widgets/base",
          "model_name": "LayoutModel",
          "model_module_version": "1.2.0",
          "state": {
            "_model_module": "@jupyter-widgets/base",
            "_model_module_version": "1.2.0",
            "_model_name": "LayoutModel",
            "_view_count": null,
            "_view_module": "@jupyter-widgets/base",
            "_view_module_version": "1.2.0",
            "_view_name": "LayoutView",
            "align_content": null,
            "align_items": null,
            "align_self": null,
            "border": null,
            "bottom": null,
            "display": null,
            "flex": null,
            "flex_flow": null,
            "grid_area": null,
            "grid_auto_columns": null,
            "grid_auto_flow": null,
            "grid_auto_rows": null,
            "grid_column": null,
            "grid_gap": null,
            "grid_row": null,
            "grid_template_areas": null,
            "grid_template_columns": null,
            "grid_template_rows": null,
            "height": null,
            "justify_content": null,
            "justify_items": null,
            "left": null,
            "margin": null,
            "max_height": null,
            "max_width": null,
            "min_height": null,
            "min_width": null,
            "object_fit": null,
            "object_position": null,
            "order": null,
            "overflow": null,
            "overflow_x": null,
            "overflow_y": null,
            "padding": null,
            "right": null,
            "top": null,
            "visibility": null,
            "width": null
          }
        },
        "482f0b46293f42a6bc5412da9acebf55": {
          "model_module": "@jupyter-widgets/base",
          "model_name": "LayoutModel",
          "model_module_version": "1.2.0",
          "state": {
            "_model_module": "@jupyter-widgets/base",
            "_model_module_version": "1.2.0",
            "_model_name": "LayoutModel",
            "_view_count": null,
            "_view_module": "@jupyter-widgets/base",
            "_view_module_version": "1.2.0",
            "_view_name": "LayoutView",
            "align_content": null,
            "align_items": null,
            "align_self": null,
            "border": null,
            "bottom": null,
            "display": null,
            "flex": null,
            "flex_flow": null,
            "grid_area": null,
            "grid_auto_columns": null,
            "grid_auto_flow": null,
            "grid_auto_rows": null,
            "grid_column": null,
            "grid_gap": null,
            "grid_row": null,
            "grid_template_areas": null,
            "grid_template_columns": null,
            "grid_template_rows": null,
            "height": "53px",
            "justify_content": null,
            "justify_items": null,
            "left": null,
            "margin": null,
            "max_height": null,
            "max_width": null,
            "min_height": null,
            "min_width": null,
            "object_fit": null,
            "object_position": null,
            "order": null,
            "overflow": null,
            "overflow_x": null,
            "overflow_y": null,
            "padding": null,
            "right": null,
            "top": null,
            "visibility": null,
            "width": "150px"
          }
        },
        "26ad1d5976ee4fbfa6f24e6e652de446": {
          "model_module": "@jupyter-widgets/controls",
          "model_name": "ButtonStyleModel",
          "model_module_version": "1.5.0",
          "state": {
            "_model_module": "@jupyter-widgets/controls",
            "_model_module_version": "1.5.0",
            "_model_name": "ButtonStyleModel",
            "_view_count": null,
            "_view_module": "@jupyter-widgets/base",
            "_view_module_version": "1.2.0",
            "_view_name": "StyleView",
            "button_color": null,
            "font_weight": ""
          }
        },
        "61d2ba70a6fb4f1eb40c0276e570f84c": {
          "model_module": "@jupyter-widgets/base",
          "model_name": "LayoutModel",
          "model_module_version": "1.2.0",
          "state": {
            "_model_module": "@jupyter-widgets/base",
            "_model_module_version": "1.2.0",
            "_model_name": "LayoutModel",
            "_view_count": null,
            "_view_module": "@jupyter-widgets/base",
            "_view_module_version": "1.2.0",
            "_view_name": "LayoutView",
            "align_content": null,
            "align_items": null,
            "align_self": null,
            "border": null,
            "bottom": null,
            "display": null,
            "flex": null,
            "flex_flow": null,
            "grid_area": null,
            "grid_auto_columns": null,
            "grid_auto_flow": null,
            "grid_auto_rows": null,
            "grid_column": null,
            "grid_gap": null,
            "grid_row": null,
            "grid_template_areas": null,
            "grid_template_columns": null,
            "grid_template_rows": null,
            "height": null,
            "justify_content": null,
            "justify_items": null,
            "left": null,
            "margin": null,
            "max_height": null,
            "max_width": null,
            "min_height": null,
            "min_width": null,
            "object_fit": null,
            "object_position": null,
            "order": null,
            "overflow": null,
            "overflow_x": null,
            "overflow_y": null,
            "padding": null,
            "right": null,
            "top": null,
            "visibility": null,
            "width": "100px"
          }
        },
        "8b37920dc2df4b6582d4ac3f5a2a8c3b": {
          "model_module": "@jupyter-widgets/controls",
          "model_name": "DescriptionStyleModel",
          "model_module_version": "1.5.0",
          "state": {
            "_model_module": "@jupyter-widgets/controls",
            "_model_module_version": "1.5.0",
            "_model_name": "DescriptionStyleModel",
            "_view_count": null,
            "_view_module": "@jupyter-widgets/base",
            "_view_module_version": "1.2.0",
            "_view_name": "StyleView",
            "description_width": ""
          }
        },
        "8f158758948546edba1dd510ade5f57f": {
          "model_module": "@jupyter-widgets/base",
          "model_name": "LayoutModel",
          "model_module_version": "1.2.0",
          "state": {
            "_model_module": "@jupyter-widgets/base",
            "_model_module_version": "1.2.0",
            "_model_name": "LayoutModel",
            "_view_count": null,
            "_view_module": "@jupyter-widgets/base",
            "_view_module_version": "1.2.0",
            "_view_name": "LayoutView",
            "align_content": null,
            "align_items": null,
            "align_self": null,
            "border": null,
            "bottom": null,
            "display": null,
            "flex": null,
            "flex_flow": null,
            "grid_area": null,
            "grid_auto_columns": null,
            "grid_auto_flow": null,
            "grid_auto_rows": null,
            "grid_column": null,
            "grid_gap": null,
            "grid_row": null,
            "grid_template_areas": null,
            "grid_template_columns": null,
            "grid_template_rows": null,
            "height": "53px",
            "justify_content": null,
            "justify_items": null,
            "left": null,
            "margin": null,
            "max_height": null,
            "max_width": null,
            "min_height": null,
            "min_width": null,
            "object_fit": null,
            "object_position": null,
            "order": null,
            "overflow": null,
            "overflow_x": null,
            "overflow_y": null,
            "padding": null,
            "right": null,
            "top": null,
            "visibility": null,
            "width": "200px"
          }
        },
        "79f82825289d4d91a9d88f14dcf72d3d": {
          "model_module": "@jupyter-widgets/controls",
          "model_name": "ButtonStyleModel",
          "model_module_version": "1.5.0",
          "state": {
            "_model_module": "@jupyter-widgets/controls",
            "_model_module_version": "1.5.0",
            "_model_name": "ButtonStyleModel",
            "_view_count": null,
            "_view_module": "@jupyter-widgets/base",
            "_view_module_version": "1.2.0",
            "_view_name": "StyleView",
            "button_color": null,
            "font_weight": ""
          }
        },
        "87c051ddc5254b24b3d7e4ca62d100a8": {
          "model_module": "@jupyter-widgets/base",
          "model_name": "LayoutModel",
          "model_module_version": "1.2.0",
          "state": {
            "_model_module": "@jupyter-widgets/base",
            "_model_module_version": "1.2.0",
            "_model_name": "LayoutModel",
            "_view_count": null,
            "_view_module": "@jupyter-widgets/base",
            "_view_module_version": "1.2.0",
            "_view_name": "LayoutView",
            "align_content": null,
            "align_items": null,
            "align_self": null,
            "border": null,
            "bottom": null,
            "display": null,
            "flex": null,
            "flex_flow": null,
            "grid_area": null,
            "grid_auto_columns": null,
            "grid_auto_flow": null,
            "grid_auto_rows": null,
            "grid_column": null,
            "grid_gap": null,
            "grid_row": null,
            "grid_template_areas": null,
            "grid_template_columns": null,
            "grid_template_rows": null,
            "height": "25px",
            "justify_content": null,
            "justify_items": null,
            "left": null,
            "margin": null,
            "max_height": null,
            "max_width": null,
            "min_height": null,
            "min_width": null,
            "object_fit": null,
            "object_position": null,
            "order": null,
            "overflow": null,
            "overflow_x": null,
            "overflow_y": null,
            "padding": null,
            "right": null,
            "top": null,
            "visibility": null,
            "width": "300px"
          }
        },
        "71b70838594b4867892c2792710b5277": {
          "model_module": "@jupyter-widgets/controls",
          "model_name": "DescriptionStyleModel",
          "model_module_version": "1.5.0",
          "state": {
            "_model_module": "@jupyter-widgets/controls",
            "_model_module_version": "1.5.0",
            "_model_name": "DescriptionStyleModel",
            "_view_count": null,
            "_view_module": "@jupyter-widgets/base",
            "_view_module_version": "1.2.0",
            "_view_name": "StyleView",
            "description_width": ""
          }
        },
        "f53a0d4a6bc549a8bae389396e11731b": {
          "model_module": "@jupyter-widgets/base",
          "model_name": "LayoutModel",
          "model_module_version": "1.2.0",
          "state": {
            "_model_module": "@jupyter-widgets/base",
            "_model_module_version": "1.2.0",
            "_model_name": "LayoutModel",
            "_view_count": null,
            "_view_module": "@jupyter-widgets/base",
            "_view_module_version": "1.2.0",
            "_view_name": "LayoutView",
            "align_content": null,
            "align_items": null,
            "align_self": null,
            "border": null,
            "bottom": null,
            "display": null,
            "flex": null,
            "flex_flow": null,
            "grid_area": null,
            "grid_auto_columns": null,
            "grid_auto_flow": null,
            "grid_auto_rows": null,
            "grid_column": null,
            "grid_gap": null,
            "grid_row": null,
            "grid_template_areas": null,
            "grid_template_columns": null,
            "grid_template_rows": null,
            "height": "24px",
            "justify_content": null,
            "justify_items": null,
            "left": null,
            "margin": null,
            "max_height": null,
            "max_width": null,
            "min_height": null,
            "min_width": null,
            "object_fit": null,
            "object_position": null,
            "order": null,
            "overflow": null,
            "overflow_x": null,
            "overflow_y": null,
            "padding": null,
            "right": null,
            "top": null,
            "visibility": null,
            "width": "300px"
          }
        },
        "aef53c1394dc46f0823ecf1d4bbfc83b": {
          "model_module": "@jupyter-widgets/controls",
          "model_name": "DescriptionStyleModel",
          "model_module_version": "1.5.0",
          "state": {
            "_model_module": "@jupyter-widgets/controls",
            "_model_module_version": "1.5.0",
            "_model_name": "DescriptionStyleModel",
            "_view_count": null,
            "_view_module": "@jupyter-widgets/base",
            "_view_module_version": "1.2.0",
            "_view_name": "StyleView",
            "description_width": ""
          }
        }
      }
    }
  },
  "cells": [
    {
      "cell_type": "markdown",
      "metadata": {
        "id": "view-in-github",
        "colab_type": "text"
      },
      "source": [
        "<a href=\"https://colab.research.google.com/github/Danielmzm081199/IntroalaIA/blob/main/Lab02.ipynb\" target=\"_parent\"><img src=\"https://colab.research.google.com/assets/colab-badge.svg\" alt=\"Open In Colab\"/></a>"
      ]
    },
    {
      "cell_type": "code",
      "execution_count": null,
      "metadata": {
        "id": "GXeEWJ7kLLM1",
        "colab": {
          "base_uri": "https://localhost:8080/",
          "height": 58
        },
        "outputId": "6a697d79-0117-4184-c3e8-8b6b894ee0c6"
      },
      "outputs": [
        {
          "output_type": "display_data",
          "data": {
            "text/plain": [
              "<IPython.core.display.HTML object>"
            ],
            "text/html": [
              "\n",
              "<meta name=\"google-signin-client_id\"\n",
              "      content=\"461673936472-kdjosv61up3ac1ajeuq6qqu72upilmls.apps.googleusercontent.com\"/>\n",
              "<script src=\"https://apis.google.com/js/client:platform.js?onload=google_button_start\"></script>\n",
              "    "
            ]
          },
          "metadata": {}
        },
        {
          "output_type": "execute_result",
          "data": {
            "text/plain": [
              "<IPython.core.display.HTML object>"
            ],
            "text/html": [
              "<h3>See <a href='https://m5knaekxo6.execute-api.us-west-2.amazonaws.com/dev-v0001/rlxmooc/web/login' target='_blank'>my courses and progress</a></h2>"
            ]
          },
          "metadata": {},
          "execution_count": 17
        }
      ],
      "source": [
        "!wget --no-cache -O init.py -q https://raw.githubusercontent.com/rramosp/ai4eng.v1/main/content/init.py\n",
        "import init, inspect; init.init(force_download=False); init.get_weblink()"
      ]
    },
    {
      "cell_type": "code",
      "source": [
        "from local.lib.rlxmoocapi import submit, session\n",
        "session.LoginSequence(endpoint=init.endpoint, course_id=init.course_id, lab_id=\"L01.02\", varname=\"student\");"
      ],
      "metadata": {
        "colab": {
          "base_uri": "https://localhost:8080/",
          "height": 136,
          "referenced_widgets": [
            "f9e8881c82624423bc7d0f97443f902e",
            "31f2d64459854df98688bfa35e56015e",
            "459f31c522684648bf4acde214d8b275",
            "6fb1997f4dc240d189a1f59658501fa7",
            "682231e104fb4a5783d7bb52bec7b191",
            "432363891b5c499491c6a67d33132c2d",
            "9cabe2ddcf364677a215f24a7d20a2ab",
            "3ecba7ea3bea4f0db84a712b27de4812",
            "68d3e130bbe14f59ab2dead337c6de38",
            "482f0b46293f42a6bc5412da9acebf55",
            "26ad1d5976ee4fbfa6f24e6e652de446",
            "61d2ba70a6fb4f1eb40c0276e570f84c",
            "8b37920dc2df4b6582d4ac3f5a2a8c3b",
            "8f158758948546edba1dd510ade5f57f",
            "79f82825289d4d91a9d88f14dcf72d3d",
            "87c051ddc5254b24b3d7e4ca62d100a8",
            "71b70838594b4867892c2792710b5277",
            "f53a0d4a6bc549a8bae389396e11731b",
            "aef53c1394dc46f0823ecf1d4bbfc83b"
          ]
        },
        "id": "cjAAegdKMGn-",
        "outputId": "62157d77-7824-48f1-ed5b-c4cee290e63d"
      },
      "execution_count": null,
      "outputs": [
        {
          "output_type": "stream",
          "name": "stdout",
          "text": [
            "logging in as daniel.munozm@udea.edu.co... please wait\n",
            "using course session ai4eng.v1.udea.r3::2024.1\n",
            "success!! you are logged in\n"
          ]
        }
      ]
    },
    {
      "cell_type": "markdown",
      "source": [
        "#*Metrics*"
      ],
      "metadata": {
        "id": "605uvlqkY03S"
      }
    },
    {
      "cell_type": "code",
      "source": [
        "import numpy as np\n",
        "\n",
        "# Generar los datos de prueba\n",
        "t1_actual = np.random.randint(2, size=20)\n",
        "t1_predicted = np.abs(t1_actual * (np.random.random(size=20) > (np.random.random() * 0.9 + 0.05)).astype(int))\n",
        "\n",
        "# Contar las predicciones correctas\n",
        "predicciones_correctas = np.sum(t1_actual == t1_predicted)\n",
        "\n",
        "# Calcular el porcentaje de precisión\n",
        "porcentaje_precision = (predicciones_correctas / len(t1_actual)) * 100\n",
        "\n",
        "# Redondear el resultado a tres decimales\n",
        "accuracy = round(porcentaje_precision, 3)\n",
        "\n",
        "# Imprimir los resultados\n",
        "print(\"actual    :\", \", \".join([str(i) for i in t1_actual]))\n",
        "print(\"predicted :\", \", \".join([str(i) for i in t1_predicted]))\n",
        "print(\"Precisión :\", accuracy, \"%\")\n"
      ],
      "metadata": {
        "colab": {
          "base_uri": "https://localhost:8080/"
        },
        "id": "c5X3L7hAMqzl",
        "outputId": "f33d81d9-9dad-4e94-abf1-40c3b04d0dc0"
      },
      "execution_count": null,
      "outputs": [
        {
          "output_type": "stream",
          "name": "stdout",
          "text": [
            "actual    : 1, 0, 0, 0, 1, 1, 1, 1, 0, 1, 1, 0, 1, 0, 1, 1, 0, 0, 0, 0\n",
            "predicted : 1, 0, 0, 0, 0, 1, 1, 1, 0, 0, 1, 0, 0, 0, 0, 1, 0, 0, 0, 0\n",
            "Precisión : 80.0 %\n"
          ]
        }
      ]
    },
    {
      "cell_type": "code",
      "source": [
        "accuracy = 0.80"
      ],
      "metadata": {
        "id": "H2eBvegBemtv"
      },
      "execution_count": null,
      "outputs": []
    },
    {
      "cell_type": "code",
      "source": [
        "# student.submit_task(globals(), task_id=\"task_01\");"
      ],
      "metadata": {
        "colab": {
          "base_uri": "https://localhost:8080/",
          "height": 123
        },
        "id": "EJXwDES9MqIB",
        "outputId": "bc1408f1-c55d-425d-a6a1-d0f1409bdd0f"
      },
      "execution_count": null,
      "outputs": [
        {
          "output_type": "display_data",
          "data": {
            "text/plain": [
              "<IPython.core.display.HTML object>"
            ],
            "text/html": [
              "\n",
              "                    <b>task_01 submitted.</b> <b><font color=\"blue\">your grade is 5</font></b> \n",
              "                    <p/><pre>----- grader message -------</pre><b>correct</b><pre>----------------------------</pre>\n",
              "                    <p/><p/>\n",
              "                    <div style=\"font-size:10px\"><b>SUBMISSION CODE</b> +Bmf7JYq5D3PaGAAGhd3P1dUn5JusVg2/KopSH2XaTjXtG2DWfv8JWbwq8YLUxEfTyh2wqHWMCGC8FwvVPNFhUWaJV+fbGu87UrXMY/l8FLfO5W/Fi7K3+L4ZMLR3eauxKVshhLmfLFs40PyobZFOV1cfQXKEQfXCeaj4G9g+7A=</div>\n",
              "                    "
            ]
          },
          "metadata": {}
        }
      ]
    },
    {
      "cell_type": "code",
      "source": [
        "import numpy as np\n",
        "\n",
        "# Generar los datos de prueba\n",
        "t2_predicted = np.random.randint(2, size=20)\n",
        "t2_actual = np.random.randint(2, size=20)\n",
        "t2_predicted[np.argwhere(t2_actual==1)[0][0]] = 0\n",
        "\n",
        "# Calcular verdaderos positivos (TP) y falsos negativos (FN)\n",
        "TP = np.sum((t2_predicted == 1) & (t2_actual == 1))\n",
        "FN = np.sum((t2_predicted == 0) & (t2_actual == 1))\n",
        "\n",
        "# Calcular sensibilidad\n",
        "sensibilidad = TP / (TP + FN)\n",
        "\n",
        "# Imprimir los resultados\n",
        "print(\"actual    :\", \", \".join([str(i) for i in t2_actual]))\n",
        "print(\"predicted :\", \", \".join([str(i) for i in t2_predicted]))\n",
        "print(\"Sensibilidad (tasa de verdaderos positivos o tasa de recuperación) :\", sensibilidad)\n"
      ],
      "metadata": {
        "colab": {
          "base_uri": "https://localhost:8080/"
        },
        "id": "B6IDcqZ6fBk3",
        "outputId": "b40cab0b-9a68-4d1f-d05d-dc6449e31183"
      },
      "execution_count": null,
      "outputs": [
        {
          "output_type": "stream",
          "name": "stdout",
          "text": [
            "actual    : 0, 0, 0, 1, 1, 0, 0, 0, 1, 0, 1, 1, 1, 0, 1, 0, 0, 1, 1, 1\n",
            "predicted : 1, 0, 1, 0, 0, 1, 0, 1, 0, 1, 0, 1, 1, 0, 0, 1, 1, 1, 1, 1\n",
            "Sensibilidad (tasa de verdaderos positivos o tasa de recuperación) : 0.5\n"
          ]
        }
      ]
    },
    {
      "cell_type": "code",
      "source": [
        "tpr = 0.50"
      ],
      "metadata": {
        "id": "gnMHSCaDmBzt"
      },
      "execution_count": null,
      "outputs": []
    },
    {
      "cell_type": "code",
      "source": [
        "# student.submit_task(globals(), task_id=\"task_02\");"
      ],
      "metadata": {
        "colab": {
          "base_uri": "https://localhost:8080/",
          "height": 123
        },
        "id": "Kh7XWvp9mDCj",
        "outputId": "f991b28a-1821-4233-a339-83af6d1719c8"
      },
      "execution_count": null,
      "outputs": [
        {
          "output_type": "display_data",
          "data": {
            "text/plain": [
              "<IPython.core.display.HTML object>"
            ],
            "text/html": [
              "\n",
              "                    <b>task_02 submitted.</b> <b><font color=\"blue\">your grade is 5</font></b> \n",
              "                    <p/><pre>----- grader message -------</pre><b>correct</b><pre>----------------------------</pre>\n",
              "                    <p/><p/>\n",
              "                    <div style=\"font-size:10px\"><b>SUBMISSION CODE</b> J0c3p7VRO6r+njANvvXxA2KZneGzhDrXEbRLsgKd/KRYsF+o+1y8WujapzKoGXVUyTlVtd1Mdw03LYODxYZKfBWuggcLosdxjircjHQSek+Fh6xtt0dxRFuqZ8DuLaAd8gh6Z2cgd+rbW1xHJU+RCGtfXbaX/LcLJd1dRud0kvU=</div>\n",
              "                    "
            ]
          },
          "metadata": {}
        }
      ]
    },
    {
      "cell_type": "code",
      "source": [
        "import numpy as np\n",
        "\n",
        "# Función para calcular el error logarítmico cuadrático medio\n",
        "def rmsle(y_actual, y_pred):\n",
        "    return np.sqrt(np.mean(np.square(np.log1p(y_pred) - np.log1p(y_actual))))\n",
        "\n",
        "# Generar los datos de prueba\n",
        "t3_actual = np.random.randint(80, size=15) + 20\n",
        "t3_predicted = np.random.randint(80, size=15) + 20\n",
        "\n",
        "# Calcular el RMSLE\n",
        "error_rmsle = rmsle(t3_actual, t3_predicted)\n",
        "\n",
        "# Imprimir los resultados\n",
        "print(\"actual    :\", t3_actual)\n",
        "print(\"predicted :\", t3_predicted)\n",
        "print(\"Error RMSLE:\", error_rmsle)\n"
      ],
      "metadata": {
        "colab": {
          "base_uri": "https://localhost:8080/"
        },
        "id": "CtAJMoaNDzkT",
        "outputId": "8f0c3486-121d-4dae-a059-f704a7faa3fd"
      },
      "execution_count": null,
      "outputs": [
        {
          "output_type": "stream",
          "name": "stdout",
          "text": [
            "actual    : [80 54 62 63 23 85 61 80 49 71 92 32 56 91 65]\n",
            "predicted : [99 54 50 84 36 33 69 82 28 20 71 90 36 41 35]\n",
            "Error RMSLE: 0.5950760916518099\n"
          ]
        }
      ]
    },
    {
      "cell_type": "code",
      "source": [
        "rmsle = 0.59"
      ],
      "metadata": {
        "id": "vidCkIR7mxGn"
      },
      "execution_count": null,
      "outputs": []
    },
    {
      "cell_type": "code",
      "source": [
        "# student.submit_task(globals(), task_id=\"task_03\");"
      ],
      "metadata": {
        "colab": {
          "base_uri": "https://localhost:8080/",
          "height": 111
        },
        "id": "wZ0MnX_lm9Ay",
        "outputId": "55c9f599-4ffc-453d-ac7a-8f8babc56ca4"
      },
      "execution_count": null,
      "outputs": [
        {
          "output_type": "display_data",
          "data": {
            "text/plain": [
              "<IPython.core.display.HTML object>"
            ],
            "text/html": [
              "\n",
              "                    <b>task_03 submitted.</b> <b><font color=\"blue\">your grade is 5</font></b> \n",
              "                    <p/><pre>----- grader message -------</pre><b>correct</b><pre>----------------------------</pre>\n",
              "                    <p/><p/>\n",
              "                    <div style=\"font-size:10px\"><b>SUBMISSION CODE</b> 3SkHLUJ4a3v8E4mIx95j+Pvsp1sCqbNkZQIffzvTLSKqdN6+2K6X9OmhIiPAEVR0PFe1fkMXjr3RHvZxCWqO04WBUWLQd7ymp/fdUuhXbjuJE4kpaK31OTXfuph5kwmS5fejxg+qyNKwQvLNLXWDbg1QFxV4vRaRYaGsKYRn2kw=</div>\n",
              "                    "
            ]
          },
          "metadata": {}
        }
      ]
    },
    {
      "cell_type": "code",
      "source": [
        "import numpy as np\n",
        "\n",
        "# Función para calcular la pérdida logarítmica multiclase\n",
        "def multiclass_log_loss(y_true, y_pred):\n",
        "    epsilon = 1e-15  # Valor pequeño para evitar divisiones por cero\n",
        "    y_pred = np.clip(y_pred, epsilon, 1 - epsilon)  # Ajuste de valores para evitar log(0)\n",
        "    return -np.mean(np.sum(y_true * np.log(y_pred), axis=1))\n",
        "\n",
        "# Generar datos de prueba\n",
        "t4_predicted = np.random.random(size=(7,5)).T + 0.5\n",
        "t4_predicted = np.round((t4_predicted / np.sum(t4_predicted, axis=0)), 2).T\n",
        "\n",
        "t4_actual = np.eye(5)[np.random.randint(5, size=len(t4_predicted))].astype(int)\n",
        "\n",
        "print(\"actual\")\n",
        "print(t4_actual)\n",
        "print(\"\\npredicted\")\n",
        "print(t4_predicted)\n",
        "\n",
        "# Calcular la pérdida logarítmica multiclase\n",
        "loss = multiclass_log_loss(t4_actual, t4_predicted)\n",
        "\n",
        "# Imprimir la pérdida\n",
        "print(\"\\nPérdida logarítmica multiclase:\", loss)\n"
      ],
      "metadata": {
        "colab": {
          "base_uri": "https://localhost:8080/"
        },
        "id": "wQHxilyvEV8m",
        "outputId": "5cdc4720-fd48-4bd4-968e-c21fbb7e8aff"
      },
      "execution_count": null,
      "outputs": [
        {
          "output_type": "stream",
          "name": "stdout",
          "text": [
            "actual\n",
            "[[0 0 1 0 0]\n",
            " [0 0 0 0 1]\n",
            " [0 1 0 0 0]\n",
            " [0 0 0 1 0]\n",
            " [0 0 0 0 1]\n",
            " [0 1 0 0 0]\n",
            " [0 1 0 0 0]]\n",
            "\n",
            "predicted\n",
            "[[0.2  0.21 0.12 0.26 0.21]\n",
            " [0.21 0.16 0.14 0.23 0.25]\n",
            " [0.18 0.13 0.28 0.21 0.2 ]\n",
            " [0.16 0.24 0.15 0.16 0.3 ]\n",
            " [0.18 0.25 0.12 0.27 0.18]\n",
            " [0.2  0.13 0.18 0.25 0.24]\n",
            " [0.2  0.34 0.16 0.14 0.16]]\n",
            "\n",
            "Pérdida logarítmica multiclase: 1.744741301083608\n"
          ]
        }
      ]
    },
    {
      "cell_type": "code",
      "source": [
        "logloss = 1.74"
      ],
      "metadata": {
        "id": "31cktWxaEzax"
      },
      "execution_count": null,
      "outputs": []
    },
    {
      "cell_type": "code",
      "source": [
        "# student.submit_task(globals(), task_id=\"task_04\");"
      ],
      "metadata": {
        "colab": {
          "base_uri": "https://localhost:8080/",
          "height": 111
        },
        "id": "zE2JD3_wE2Dr",
        "outputId": "f3d24acb-4993-4a17-de0e-13fab51b1374"
      },
      "execution_count": null,
      "outputs": [
        {
          "output_type": "display_data",
          "data": {
            "text/plain": [
              "<IPython.core.display.HTML object>"
            ],
            "text/html": [
              "\n",
              "                    <b>task_04 submitted.</b> <b><font color=\"blue\">your grade is 5</font></b> \n",
              "                    <p/><pre>----- grader message -------</pre><b>correct</b><pre>----------------------------</pre>\n",
              "                    <p/><p/>\n",
              "                    <div style=\"font-size:10px\"><b>SUBMISSION CODE</b> xuKbbgXFWRNNGvCMHlXYRGXpCNbD1ROzVYA88Olzspx6Iv2ykfCbnVMD0QCBd8jqRBZVu5LD5bFf/Ajmbjl5pgWCKGEAMd6hVSOk8A8NDRQ68qq0p3G7Z8RZzsi/NgnYMrsQIKNhnsx8DR7V/zbYgD1sDqhetRp/nu5e2lY0kXg=</div>\n",
              "                    "
            ]
          },
          "metadata": {}
        }
      ]
    }
  ]
}