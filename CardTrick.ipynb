{
  "nbformat": 4,
  "nbformat_minor": 0,
  "metadata": {
    "colab": {
      "provenance": [],
      "authorship_tag": "ABX9TyNBwbub80a1kHCno9sB/H3D",
      "include_colab_link": true
    },
    "kernelspec": {
      "name": "python3",
      "display_name": "Python 3"
    },
    "language_info": {
      "name": "python"
    },
    "widgets": {
      "application/vnd.jupyter.widget-state+json": {
        "550c2b8dfd284bd4bdfcde8e2737d914": {
          "model_module": "@jupyter-widgets/controls",
          "model_name": "HBoxModel",
          "model_module_version": "1.5.0",
          "state": {
            "_dom_classes": [],
            "_model_module": "@jupyter-widgets/controls",
            "_model_module_version": "1.5.0",
            "_model_name": "HBoxModel",
            "_view_count": null,
            "_view_module": "@jupyter-widgets/controls",
            "_view_module_version": "1.5.0",
            "_view_name": "HBoxView",
            "box_style": "",
            "children": [
              "IPY_MODEL_62b7aaec8f7c4b8d9889140bee2f81d4",
              "IPY_MODEL_46e2ae783bae4161aaec332b1cae04b5",
              "IPY_MODEL_e3771996e82e49e3a1333e4c881a714e",
              "IPY_MODEL_a4ecb50a16904f249f72a4ed99f4e25f"
            ],
            "layout": "IPY_MODEL_547eccdc153043c6854d35cea3555ca8"
          }
        },
        "62b7aaec8f7c4b8d9889140bee2f81d4": {
          "model_module": "@jupyter-widgets/controls",
          "model_name": "VBoxModel",
          "model_module_version": "1.5.0",
          "state": {
            "_dom_classes": [],
            "_model_module": "@jupyter-widgets/controls",
            "_model_module_version": "1.5.0",
            "_model_name": "VBoxModel",
            "_view_count": null,
            "_view_module": "@jupyter-widgets/controls",
            "_view_module_version": "1.5.0",
            "_view_name": "VBoxView",
            "box_style": "",
            "children": [
              "IPY_MODEL_60f13ba40305413685910c2d48eaa292",
              "IPY_MODEL_cbc44e88b8ac4ae7b62b06e81646d5d1"
            ],
            "layout": "IPY_MODEL_20ab888d672f4a0283180948968c067f"
          }
        },
        "46e2ae783bae4161aaec332b1cae04b5": {
          "model_module": "@jupyter-widgets/controls",
          "model_name": "ButtonModel",
          "model_module_version": "1.5.0",
          "state": {
            "_dom_classes": [
              "login_button"
            ],
            "_model_module": "@jupyter-widgets/controls",
            "_model_module_version": "1.5.0",
            "_model_name": "ButtonModel",
            "_view_count": null,
            "_view_module": "@jupyter-widgets/controls",
            "_view_module_version": "1.5.0",
            "_view_name": "ButtonView",
            "button_style": "",
            "description": "Login with email",
            "disabled": false,
            "icon": "",
            "layout": "IPY_MODEL_893bf5ffbd4c441d8f55b6500b59912f",
            "style": "IPY_MODEL_980f2f3bc10c4199a56dded0f8372781",
            "tooltip": ""
          }
        },
        "e3771996e82e49e3a1333e4c881a714e": {
          "model_module": "@jupyter-widgets/controls",
          "model_name": "HTMLModel",
          "model_module_version": "1.5.0",
          "state": {
            "_dom_classes": [],
            "_model_module": "@jupyter-widgets/controls",
            "_model_module_version": "1.5.0",
            "_model_name": "HTMLModel",
            "_view_count": null,
            "_view_module": "@jupyter-widgets/controls",
            "_view_module_version": "1.5.0",
            "_view_name": "HTMLView",
            "description": "",
            "description_tooltip": null,
            "layout": "IPY_MODEL_37ea3e4b36d44defa5754d661cfc412f",
            "placeholder": "​",
            "style": "IPY_MODEL_3c5c63f1fc4342a0b355a8883480dc44",
            "value": "<center><big>or</big></center>"
          }
        },
        "a4ecb50a16904f249f72a4ed99f4e25f": {
          "model_module": "@jupyter-widgets/controls",
          "model_name": "ButtonModel",
          "model_module_version": "1.5.0",
          "state": {
            "_dom_classes": [
              "google_button"
            ],
            "_model_module": "@jupyter-widgets/controls",
            "_model_module_version": "1.5.0",
            "_model_name": "ButtonModel",
            "_view_count": null,
            "_view_module": "@jupyter-widgets/controls",
            "_view_module_version": "1.5.0",
            "_view_name": "ButtonView",
            "button_style": "",
            "description": "Login with Google",
            "disabled": false,
            "icon": "",
            "layout": "IPY_MODEL_7c4e5cb01f6047cd96512b8b3de7315b",
            "style": "IPY_MODEL_354b692538a44e739242fda323115eb6",
            "tooltip": ""
          }
        },
        "547eccdc153043c6854d35cea3555ca8": {
          "model_module": "@jupyter-widgets/base",
          "model_name": "LayoutModel",
          "model_module_version": "1.2.0",
          "state": {
            "_model_module": "@jupyter-widgets/base",
            "_model_module_version": "1.2.0",
            "_model_name": "LayoutModel",
            "_view_count": null,
            "_view_module": "@jupyter-widgets/base",
            "_view_module_version": "1.2.0",
            "_view_name": "LayoutView",
            "align_content": null,
            "align_items": null,
            "align_self": null,
            "border": null,
            "bottom": null,
            "display": null,
            "flex": null,
            "flex_flow": null,
            "grid_area": null,
            "grid_auto_columns": null,
            "grid_auto_flow": null,
            "grid_auto_rows": null,
            "grid_column": null,
            "grid_gap": null,
            "grid_row": null,
            "grid_template_areas": null,
            "grid_template_columns": null,
            "grid_template_rows": null,
            "height": null,
            "justify_content": null,
            "justify_items": null,
            "left": null,
            "margin": null,
            "max_height": null,
            "max_width": null,
            "min_height": null,
            "min_width": null,
            "object_fit": null,
            "object_position": null,
            "order": null,
            "overflow": null,
            "overflow_x": null,
            "overflow_y": null,
            "padding": null,
            "right": null,
            "top": null,
            "visibility": null,
            "width": null
          }
        },
        "60f13ba40305413685910c2d48eaa292": {
          "model_module": "@jupyter-widgets/controls",
          "model_name": "TextModel",
          "model_module_version": "1.5.0",
          "state": {
            "_dom_classes": [],
            "_model_module": "@jupyter-widgets/controls",
            "_model_module_version": "1.5.0",
            "_model_name": "TextModel",
            "_view_count": null,
            "_view_module": "@jupyter-widgets/controls",
            "_view_module_version": "1.5.0",
            "_view_name": "TextView",
            "continuous_update": true,
            "description": "email",
            "description_tooltip": null,
            "disabled": false,
            "layout": "IPY_MODEL_ebc759624e13455a832222791b628ace",
            "placeholder": "​",
            "style": "IPY_MODEL_ff307aed824440d8a2f7e6b64a737e6f",
            "value": ""
          }
        },
        "cbc44e88b8ac4ae7b62b06e81646d5d1": {
          "model_module": "@jupyter-widgets/controls",
          "model_name": "PasswordModel",
          "model_module_version": "1.5.0",
          "state": {
            "_dom_classes": [],
            "_model_module": "@jupyter-widgets/controls",
            "_model_module_version": "1.5.0",
            "_model_name": "PasswordModel",
            "_view_count": null,
            "_view_module": "@jupyter-widgets/controls",
            "_view_module_version": "1.5.0",
            "_view_name": "PasswordView",
            "continuous_update": true,
            "description": "password",
            "description_tooltip": null,
            "disabled": false,
            "layout": "IPY_MODEL_595614dd52ee488380d80a35ee786b94",
            "placeholder": "​",
            "style": "IPY_MODEL_3a7ac7e1811149a29a833517df004535",
            "value": ""
          }
        },
        "20ab888d672f4a0283180948968c067f": {
          "model_module": "@jupyter-widgets/base",
          "model_name": "LayoutModel",
          "model_module_version": "1.2.0",
          "state": {
            "_model_module": "@jupyter-widgets/base",
            "_model_module_version": "1.2.0",
            "_model_name": "LayoutModel",
            "_view_count": null,
            "_view_module": "@jupyter-widgets/base",
            "_view_module_version": "1.2.0",
            "_view_name": "LayoutView",
            "align_content": null,
            "align_items": null,
            "align_self": null,
            "border": null,
            "bottom": null,
            "display": null,
            "flex": null,
            "flex_flow": null,
            "grid_area": null,
            "grid_auto_columns": null,
            "grid_auto_flow": null,
            "grid_auto_rows": null,
            "grid_column": null,
            "grid_gap": null,
            "grid_row": null,
            "grid_template_areas": null,
            "grid_template_columns": null,
            "grid_template_rows": null,
            "height": null,
            "justify_content": null,
            "justify_items": null,
            "left": null,
            "margin": null,
            "max_height": null,
            "max_width": null,
            "min_height": null,
            "min_width": null,
            "object_fit": null,
            "object_position": null,
            "order": null,
            "overflow": null,
            "overflow_x": null,
            "overflow_y": null,
            "padding": null,
            "right": null,
            "top": null,
            "visibility": null,
            "width": null
          }
        },
        "893bf5ffbd4c441d8f55b6500b59912f": {
          "model_module": "@jupyter-widgets/base",
          "model_name": "LayoutModel",
          "model_module_version": "1.2.0",
          "state": {
            "_model_module": "@jupyter-widgets/base",
            "_model_module_version": "1.2.0",
            "_model_name": "LayoutModel",
            "_view_count": null,
            "_view_module": "@jupyter-widgets/base",
            "_view_module_version": "1.2.0",
            "_view_name": "LayoutView",
            "align_content": null,
            "align_items": null,
            "align_self": null,
            "border": null,
            "bottom": null,
            "display": null,
            "flex": null,
            "flex_flow": null,
            "grid_area": null,
            "grid_auto_columns": null,
            "grid_auto_flow": null,
            "grid_auto_rows": null,
            "grid_column": null,
            "grid_gap": null,
            "grid_row": null,
            "grid_template_areas": null,
            "grid_template_columns": null,
            "grid_template_rows": null,
            "height": "53px",
            "justify_content": null,
            "justify_items": null,
            "left": null,
            "margin": null,
            "max_height": null,
            "max_width": null,
            "min_height": null,
            "min_width": null,
            "object_fit": null,
            "object_position": null,
            "order": null,
            "overflow": null,
            "overflow_x": null,
            "overflow_y": null,
            "padding": null,
            "right": null,
            "top": null,
            "visibility": null,
            "width": "150px"
          }
        },
        "980f2f3bc10c4199a56dded0f8372781": {
          "model_module": "@jupyter-widgets/controls",
          "model_name": "ButtonStyleModel",
          "model_module_version": "1.5.0",
          "state": {
            "_model_module": "@jupyter-widgets/controls",
            "_model_module_version": "1.5.0",
            "_model_name": "ButtonStyleModel",
            "_view_count": null,
            "_view_module": "@jupyter-widgets/base",
            "_view_module_version": "1.2.0",
            "_view_name": "StyleView",
            "button_color": null,
            "font_weight": ""
          }
        },
        "37ea3e4b36d44defa5754d661cfc412f": {
          "model_module": "@jupyter-widgets/base",
          "model_name": "LayoutModel",
          "model_module_version": "1.2.0",
          "state": {
            "_model_module": "@jupyter-widgets/base",
            "_model_module_version": "1.2.0",
            "_model_name": "LayoutModel",
            "_view_count": null,
            "_view_module": "@jupyter-widgets/base",
            "_view_module_version": "1.2.0",
            "_view_name": "LayoutView",
            "align_content": null,
            "align_items": null,
            "align_self": null,
            "border": null,
            "bottom": null,
            "display": null,
            "flex": null,
            "flex_flow": null,
            "grid_area": null,
            "grid_auto_columns": null,
            "grid_auto_flow": null,
            "grid_auto_rows": null,
            "grid_column": null,
            "grid_gap": null,
            "grid_row": null,
            "grid_template_areas": null,
            "grid_template_columns": null,
            "grid_template_rows": null,
            "height": null,
            "justify_content": null,
            "justify_items": null,
            "left": null,
            "margin": null,
            "max_height": null,
            "max_width": null,
            "min_height": null,
            "min_width": null,
            "object_fit": null,
            "object_position": null,
            "order": null,
            "overflow": null,
            "overflow_x": null,
            "overflow_y": null,
            "padding": null,
            "right": null,
            "top": null,
            "visibility": null,
            "width": "100px"
          }
        },
        "3c5c63f1fc4342a0b355a8883480dc44": {
          "model_module": "@jupyter-widgets/controls",
          "model_name": "DescriptionStyleModel",
          "model_module_version": "1.5.0",
          "state": {
            "_model_module": "@jupyter-widgets/controls",
            "_model_module_version": "1.5.0",
            "_model_name": "DescriptionStyleModel",
            "_view_count": null,
            "_view_module": "@jupyter-widgets/base",
            "_view_module_version": "1.2.0",
            "_view_name": "StyleView",
            "description_width": ""
          }
        },
        "7c4e5cb01f6047cd96512b8b3de7315b": {
          "model_module": "@jupyter-widgets/base",
          "model_name": "LayoutModel",
          "model_module_version": "1.2.0",
          "state": {
            "_model_module": "@jupyter-widgets/base",
            "_model_module_version": "1.2.0",
            "_model_name": "LayoutModel",
            "_view_count": null,
            "_view_module": "@jupyter-widgets/base",
            "_view_module_version": "1.2.0",
            "_view_name": "LayoutView",
            "align_content": null,
            "align_items": null,
            "align_self": null,
            "border": null,
            "bottom": null,
            "display": null,
            "flex": null,
            "flex_flow": null,
            "grid_area": null,
            "grid_auto_columns": null,
            "grid_auto_flow": null,
            "grid_auto_rows": null,
            "grid_column": null,
            "grid_gap": null,
            "grid_row": null,
            "grid_template_areas": null,
            "grid_template_columns": null,
            "grid_template_rows": null,
            "height": "53px",
            "justify_content": null,
            "justify_items": null,
            "left": null,
            "margin": null,
            "max_height": null,
            "max_width": null,
            "min_height": null,
            "min_width": null,
            "object_fit": null,
            "object_position": null,
            "order": null,
            "overflow": null,
            "overflow_x": null,
            "overflow_y": null,
            "padding": null,
            "right": null,
            "top": null,
            "visibility": null,
            "width": "200px"
          }
        },
        "354b692538a44e739242fda323115eb6": {
          "model_module": "@jupyter-widgets/controls",
          "model_name": "ButtonStyleModel",
          "model_module_version": "1.5.0",
          "state": {
            "_model_module": "@jupyter-widgets/controls",
            "_model_module_version": "1.5.0",
            "_model_name": "ButtonStyleModel",
            "_view_count": null,
            "_view_module": "@jupyter-widgets/base",
            "_view_module_version": "1.2.0",
            "_view_name": "StyleView",
            "button_color": null,
            "font_weight": ""
          }
        },
        "ebc759624e13455a832222791b628ace": {
          "model_module": "@jupyter-widgets/base",
          "model_name": "LayoutModel",
          "model_module_version": "1.2.0",
          "state": {
            "_model_module": "@jupyter-widgets/base",
            "_model_module_version": "1.2.0",
            "_model_name": "LayoutModel",
            "_view_count": null,
            "_view_module": "@jupyter-widgets/base",
            "_view_module_version": "1.2.0",
            "_view_name": "LayoutView",
            "align_content": null,
            "align_items": null,
            "align_self": null,
            "border": null,
            "bottom": null,
            "display": null,
            "flex": null,
            "flex_flow": null,
            "grid_area": null,
            "grid_auto_columns": null,
            "grid_auto_flow": null,
            "grid_auto_rows": null,
            "grid_column": null,
            "grid_gap": null,
            "grid_row": null,
            "grid_template_areas": null,
            "grid_template_columns": null,
            "grid_template_rows": null,
            "height": "25px",
            "justify_content": null,
            "justify_items": null,
            "left": null,
            "margin": null,
            "max_height": null,
            "max_width": null,
            "min_height": null,
            "min_width": null,
            "object_fit": null,
            "object_position": null,
            "order": null,
            "overflow": null,
            "overflow_x": null,
            "overflow_y": null,
            "padding": null,
            "right": null,
            "top": null,
            "visibility": null,
            "width": "300px"
          }
        },
        "ff307aed824440d8a2f7e6b64a737e6f": {
          "model_module": "@jupyter-widgets/controls",
          "model_name": "DescriptionStyleModel",
          "model_module_version": "1.5.0",
          "state": {
            "_model_module": "@jupyter-widgets/controls",
            "_model_module_version": "1.5.0",
            "_model_name": "DescriptionStyleModel",
            "_view_count": null,
            "_view_module": "@jupyter-widgets/base",
            "_view_module_version": "1.2.0",
            "_view_name": "StyleView",
            "description_width": ""
          }
        },
        "595614dd52ee488380d80a35ee786b94": {
          "model_module": "@jupyter-widgets/base",
          "model_name": "LayoutModel",
          "model_module_version": "1.2.0",
          "state": {
            "_model_module": "@jupyter-widgets/base",
            "_model_module_version": "1.2.0",
            "_model_name": "LayoutModel",
            "_view_count": null,
            "_view_module": "@jupyter-widgets/base",
            "_view_module_version": "1.2.0",
            "_view_name": "LayoutView",
            "align_content": null,
            "align_items": null,
            "align_self": null,
            "border": null,
            "bottom": null,
            "display": null,
            "flex": null,
            "flex_flow": null,
            "grid_area": null,
            "grid_auto_columns": null,
            "grid_auto_flow": null,
            "grid_auto_rows": null,
            "grid_column": null,
            "grid_gap": null,
            "grid_row": null,
            "grid_template_areas": null,
            "grid_template_columns": null,
            "grid_template_rows": null,
            "height": "24px",
            "justify_content": null,
            "justify_items": null,
            "left": null,
            "margin": null,
            "max_height": null,
            "max_width": null,
            "min_height": null,
            "min_width": null,
            "object_fit": null,
            "object_position": null,
            "order": null,
            "overflow": null,
            "overflow_x": null,
            "overflow_y": null,
            "padding": null,
            "right": null,
            "top": null,
            "visibility": null,
            "width": "300px"
          }
        },
        "3a7ac7e1811149a29a833517df004535": {
          "model_module": "@jupyter-widgets/controls",
          "model_name": "DescriptionStyleModel",
          "model_module_version": "1.5.0",
          "state": {
            "_model_module": "@jupyter-widgets/controls",
            "_model_module_version": "1.5.0",
            "_model_name": "DescriptionStyleModel",
            "_view_count": null,
            "_view_module": "@jupyter-widgets/base",
            "_view_module_version": "1.2.0",
            "_view_name": "StyleView",
            "description_width": ""
          }
        }
      }
    }
  },
  "cells": [
    {
      "cell_type": "markdown",
      "metadata": {
        "id": "view-in-github",
        "colab_type": "text"
      },
      "source": [
        "<a href=\"https://colab.research.google.com/github/Danielmzm081199/IntroalaIA/blob/main/CardTrick.ipynb\" target=\"_parent\"><img src=\"https://colab.research.google.com/assets/colab-badge.svg\" alt=\"Open In Colab\"/></a>"
      ]
    },
    {
      "cell_type": "code",
      "execution_count": 25,
      "metadata": {
        "colab": {
          "base_uri": "https://localhost:8080/",
          "height": 58
        },
        "id": "eeKTxNJWnxH_",
        "outputId": "167628b1-c84f-4320-b60a-0940dbd29828"
      },
      "outputs": [
        {
          "output_type": "display_data",
          "data": {
            "text/plain": [
              "<IPython.core.display.HTML object>"
            ],
            "text/html": [
              "\n",
              "<meta name=\"google-signin-client_id\"\n",
              "      content=\"461673936472-kdjosv61up3ac1ajeuq6qqu72upilmls.apps.googleusercontent.com\"/>\n",
              "<script src=\"https://apis.google.com/js/client:platform.js?onload=google_button_start\"></script>\n",
              "    "
            ]
          },
          "metadata": {}
        },
        {
          "output_type": "execute_result",
          "data": {
            "text/plain": [
              "<IPython.core.display.HTML object>"
            ],
            "text/html": [
              "<h3>See <a href='https://m5knaekxo6.execute-api.us-west-2.amazonaws.com/dev-v0001/rlxmooc/web/login' target='_blank'>my courses and progress</a></h2>"
            ]
          },
          "metadata": {},
          "execution_count": 25
        }
      ],
      "source": [
        "!wget --no-cache -O init.py -q https://raw.githubusercontent.com/rramosp/ai4eng.v1/main/content/init.py\n",
        "import init; init.init(force_download=False); init.get_weblink()"
      ]
    },
    {
      "cell_type": "code",
      "source": [
        "from local.lib.rlxmoocapi import submit, session\n",
        "session.LoginSequence(endpoint=init.endpoint, course_id=init.course_id, lab_id=\"L02.04\", varname=\"student\");"
      ],
      "metadata": {
        "colab": {
          "base_uri": "https://localhost:8080/",
          "height": 97,
          "referenced_widgets": [
            "550c2b8dfd284bd4bdfcde8e2737d914",
            "62b7aaec8f7c4b8d9889140bee2f81d4",
            "46e2ae783bae4161aaec332b1cae04b5",
            "e3771996e82e49e3a1333e4c881a714e",
            "a4ecb50a16904f249f72a4ed99f4e25f",
            "547eccdc153043c6854d35cea3555ca8",
            "60f13ba40305413685910c2d48eaa292",
            "cbc44e88b8ac4ae7b62b06e81646d5d1",
            "20ab888d672f4a0283180948968c067f",
            "893bf5ffbd4c441d8f55b6500b59912f",
            "980f2f3bc10c4199a56dded0f8372781",
            "37ea3e4b36d44defa5754d661cfc412f",
            "3c5c63f1fc4342a0b355a8883480dc44",
            "7c4e5cb01f6047cd96512b8b3de7315b",
            "354b692538a44e739242fda323115eb6",
            "ebc759624e13455a832222791b628ace",
            "ff307aed824440d8a2f7e6b64a737e6f",
            "595614dd52ee488380d80a35ee786b94",
            "3a7ac7e1811149a29a833517df004535"
          ]
        },
        "id": "qnU9B7VWnyC7",
        "outputId": "2a5d4971-cfb9-4e2d-8a1b-e83567ba2f6b"
      },
      "execution_count": 48,
      "outputs": [
        {
          "output_type": "stream",
          "name": "stdout",
          "text": [
            "logging in as daniel.munozm@udea.edu.co... please wait\n",
            "using course session ai4eng.v1.udea.r3::2024.1\n",
            "success!! you are logged in\n"
          ]
        }
      ]
    },
    {
      "cell_type": "code",
      "source": [
        "import numpy as np\n",
        "import pandas as pd\n",
        "import itertools\n",
        "\n",
        "def make_heaps(c, n_heaps=3):\n",
        "    assert n_heaps % 2 == 1, \"must have an odd number of heaps\"\n",
        "    assert len(c) % n_heaps == 0, \"the length of the deck must be a multiple of the number of heaps\"\n",
        "\n",
        "    # Calcula la cantidad de cartas por montón\n",
        "    cards_per_heap = len(c) // n_heaps\n",
        "\n",
        "    # Inicializa la lista de montones\n",
        "    heaps = [[] for _ in range(n_heaps)]\n",
        "\n",
        "    # Distribuye las cartas en los montones\n",
        "    for i, card in enumerate(c):\n",
        "        heap_index = i % n_heaps\n",
        "        heaps[heap_index].append(card)\n",
        "\n",
        "    return heaps\n",
        "\n",
        "# Ejemplo de uso:\n",
        "n_heaps = 3\n",
        "c = create_deck(n_heaps=n_heaps, cards_per_heap=7)\n",
        "h = make_heaps(c, n_heaps)\n",
        "print(\"deck\", c)\n",
        "print(\"heaps\")\n",
        "print(h)\n",
        "\n"
      ],
      "metadata": {
        "colab": {
          "base_uri": "https://localhost:8080/"
        },
        "id": "m30EBlE0nzoW",
        "outputId": "ff436aaa-94c5-4b70-ac27-c74ec3e0682b"
      },
      "execution_count": 53,
      "outputs": [
        {
          "output_type": "stream",
          "name": "stdout",
          "text": [
            "deck [['2A', '3A', '4A', '5A', '6A', '7A', '8A'], ['9A', '10A', 'JA', 'QA', 'KA', '2B', '3B'], ['4B', '5B', '6B', '7B', '8B', '9B', '10B']]\n",
            "heaps\n",
            "[[['2A', '3A', '4A', '5A', '6A', '7A', '8A']], [['9A', '10A', 'JA', 'QA', 'KA', '2B', '3B']], [['4B', '5B', '6B', '7B', '8B', '9B', '10B']]]\n"
          ]
        }
      ]
    },
    {
      "cell_type": "code",
      "source": [
        "student.submit_task(globals(), task_id=\"task_01\");"
      ],
      "metadata": {
        "colab": {
          "base_uri": "https://localhost:8080/",
          "height": 208
        },
        "id": "pf6p4u-qojkb",
        "outputId": "c18d8413-245a-4953-bbce-c4c97a7880fd"
      },
      "execution_count": 54,
      "outputs": [
        {
          "output_type": "display_data",
          "data": {
            "text/plain": [
              "<IPython.core.display.HTML object>"
            ],
            "text/html": [
              "\n",
              "                    <b>task_01 submitted.</b> <b><font color=\"blue\">your grade is 5</font></b> \n",
              "                    <p/><pre>----- grader message -------</pre><br/>testing with 20 random calls<br/><font color='green'><h2>correct</h2></font><pre>----------------------------</pre>\n",
              "                    <p/><p/>\n",
              "                    <div style=\"font-size:10px\"><b>SUBMISSION CODE</b> m1eu92Ub6rWhI6KDL4MgWXhygU+cJSTziUzoOBZrkbXlhm25FMUGiSkM7rOeloZNhZ36x4/HVy6iSBNd9BEjB5S/yLOfT9IFlH2PfYHzyWBtLO8ZmkMFPKfzQwmPwajZHTjDJ4sE3OPg6+2UuUrXnttHhJ9kfCLMCYhsHkZBJmk=</div>\n",
              "                    "
            ]
          },
          "metadata": {}
        }
      ]
    },
    {
      "cell_type": "markdown",
      "source": [
        "# *SegundoLab*"
      ],
      "metadata": {
        "id": "16qJxbMfQfsT"
      }
    },
    {
      "cell_type": "code",
      "source": [
        "def collect_heaps(h, n):\n",
        "     h = np.array (h)\n",
        "     r = []\n",
        "     index = [i for i, heap in enumerate(h) if n in heap] [0]\n",
        "     group_num = len(h)//2\n",
        "\n",
        "     card_heap = h [index]\n",
        "     h = np.vstack((h[:index],h[index+1:]))\n",
        "\n",
        "     [r := np.concatenate ((r,heap), axis=None) for heap in h[:group_num]]\n",
        "     r = np.concatenate ((r,card_heap), axis=None)\n",
        "     [r := np.concatenate ((r,heap), axis=None) for heap in h[group_num:]]\n",
        "\n",
        "     return r .tolist()"
      ],
      "metadata": {
        "id": "3DpwMLpa9dT4"
      },
      "execution_count": 56,
      "outputs": []
    },
    {
      "cell_type": "code",
      "source": [
        "student.submit_task(globals(), task_id=\"task_02\");"
      ],
      "metadata": {
        "colab": {
          "base_uri": "https://localhost:8080/",
          "height": 208
        },
        "id": "kI1fsQN89fCn",
        "outputId": "73b2e7fd-8090-46e0-f1de-8ff6483f60e6"
      },
      "execution_count": 57,
      "outputs": [
        {
          "output_type": "display_data",
          "data": {
            "text/plain": [
              "<IPython.core.display.HTML object>"
            ],
            "text/html": [
              "\n",
              "                    <b>task_02 submitted.</b> <b><font color=\"blue\">your grade is 5</font></b> \n",
              "                    <p/><pre>----- grader message -------</pre><br/>testing with 20 random calls<br/><font color='green'><h2>correct</h2></font><pre>----------------------------</pre>\n",
              "                    <p/><p/>\n",
              "                    <div style=\"font-size:10px\"><b>SUBMISSION CODE</b> LpgMCB/MeGekHb28G9yYjDCb5myDhGtMfvvG6rj7y8jrOPAYHlhdA8iu2PRVk7dXwxWuaWCkzyyZtf5UV2P6Na2M9Ja2BPm0phSF/3isNX5fXYD/g6WQJr45zOhbG7iD5FFkgI+mwamOsy/0+THhSe48TCADqy3k7maMemj/j+8=</div>\n",
              "                    "
            ]
          },
          "metadata": {}
        }
      ]
    },
    {
      "cell_type": "markdown",
      "source": [
        "#*Tercer lab Ejecutar truco*"
      ],
      "metadata": {
        "id": "wNdwXt6YBLBh"
      }
    },
    {
      "cell_type": "code",
      "source": [
        "import numpy as np\n",
        "import pandas as pd\n",
        "import itertools\n",
        "\n",
        "def run(c, n, n_heaps=3):\n",
        "    pos = np.where(np.array(c) == n)[0][0]\n",
        "    for _ in range(3):\n",
        "        heaps = make_heaps(c, n_heaps)\n",
        "        c = collect_heaps(heaps, n)\n",
        "    final_position = c.index(n)\n",
        "    return final_position"
      ],
      "metadata": {
        "id": "MSIPRiaGBJl6"
      },
      "execution_count": 58,
      "outputs": []
    },
    {
      "cell_type": "code",
      "source": [
        "student.submit_task(globals(), task_id=\"task_03\");"
      ],
      "metadata": {
        "colab": {
          "base_uri": "https://localhost:8080/",
          "height": 208
        },
        "id": "PFQegwf8BZ9a",
        "outputId": "52ab1d96-c1ed-49c7-97a1-4d1bcc14964a"
      },
      "execution_count": 59,
      "outputs": [
        {
          "output_type": "display_data",
          "data": {
            "text/plain": [
              "<IPython.core.display.HTML object>"
            ],
            "text/html": [
              "\n",
              "                    <b>task_03 submitted.</b> <b><font color=\"blue\">your grade is 5</font></b> \n",
              "                    <p/><pre>----- grader message -------</pre><br/>testing with 20 random calls<br/><font color='green'><h2>correct</h2></font><pre>----------------------------</pre>\n",
              "                    <p/><p/>\n",
              "                    <div style=\"font-size:10px\"><b>SUBMISSION CODE</b> xSjShEU/WEX4ivt7ASG3gIYlItYF0UATfn5Hww7xiz7f0Bz52IPPJmToYVDV3mcDxpb4dH/XUYSYkeBxvZAefUv9STlNojSq/lKGyUhgbS1GLD8KIXKX0YSBXJhCaGe6SXs0rWmvFuy76gxR0u8HY2uKMrUAe4aCCFw+0BUhedc=</div>\n",
              "                    "
            ]
          },
          "metadata": {}
        }
      ]
    },
    {
      "cell_type": "markdown",
      "source": [
        "# *Lab 4 cartas*"
      ],
      "metadata": {
        "id": "8WNIdJbTOXNE"
      }
    },
    {
      "cell_type": "code",
      "source": [
        "def mrun(c, picked_card, n_heaps = 3):\n",
        "  assert len(c)%n_heaps==0, \"the number of heaps must be a divisor of the deck length\"\n",
        "\n",
        "  ch= len(c)//n_heaps\n",
        "  nh = n_heaps\n",
        "\n",
        "  i= np.argwhere(c == picked_card)[0][0]\n",
        "\n",
        "  p1 = ch*(nh//2) + i//nh\n",
        "  p2 = ch*(nh//2) + p1//nh\n",
        "  p3 = ch*(nh//2) + p2//nh\n",
        "\n",
        "  return p3\n",
        "\n",
        "  n_heaps = 3\n",
        "  c = create_deck(n_heaps=n_heaps, cards_per_heap=4)\n",
        "  picked = \"AI\"\n",
        "  print (\"deck\", c)\n",
        "  pos = mrun(c, picked, n_heaps=n_heaps)\n",
        "  print (\"position of card %s is %d\"%(picked, pos))"
      ],
      "metadata": {
        "id": "uqAlNp1DHOMP"
      },
      "execution_count": 60,
      "outputs": []
    },
    {
      "cell_type": "code",
      "source": [
        "student.submit_task(globals(), task_id=\"task_04\");"
      ],
      "metadata": {
        "colab": {
          "base_uri": "https://localhost:8080/",
          "height": 231
        },
        "id": "2Y8snA-NIxDO",
        "outputId": "45bcd414-ffd5-4bdb-9dd7-dd851350ac4c"
      },
      "execution_count": 61,
      "outputs": [
        {
          "output_type": "display_data",
          "data": {
            "text/plain": [
              "<IPython.core.display.HTML object>"
            ],
            "text/html": [
              "\n",
              "                    <b>task_04 submitted.</b> <b><font color=\"blue\">your grade is 5</font></b> \n",
              "                    <p/><pre>----- grader message -------</pre><h3>you must not modify the original function structure or add/remove lines, just fill in the dots</h3><br/><font color='green'><h2>correct</h2></font><pre>----------------------------</pre>\n",
              "                    <p/><p/>\n",
              "                    <div style=\"font-size:10px\"><b>SUBMISSION CODE</b> GGPOBtGt2lVBcYlvW0lOlY7bnDZIVDM3p+PI8vmN9Bs6cIUl2M0+c19KhWdkFu3i2z3yJUCbPxO85IWAV0243f7NCC02dpMSQcHrpUS0W6HrZN4FiMSGw9YSfrt9dBHJPK1dZDTqNsZKppvlYvDrVZ5xGEANm03XuIMAOWWFVao=</div>\n",
              "                    "
            ]
          },
          "metadata": {}
        }
      ]
    }
  ]
}